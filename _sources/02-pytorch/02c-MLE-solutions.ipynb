{
  "cells": [
    {
      "cell_type": "markdown",
      "metadata": {
      },
      "source": "Sheet 2.2: ML-estimate of a Gaussian mean\n=========================================\n\n**Author:** Michael Franke\n\n"
    },
    {
      "cell_type": "markdown",
      "metadata": {
      },
      "source": [
        "> <strong><span style=&ldquo;color:#D83D2B;&rdquo;>Exercise 2.2.1: Explore the optimization process</span></strong>\n> 1. Change the true mean (\\`trueLocation\\`) to 10e6. Is training still successful?  What would you change?\n> **Answer**: increase \\`nTrainingSteps\\`\n>\n> 2. Revert to initial conditions. Change the initial value of the parameter \\`location\\` to -10e6. Does training work? What&rsquo;s the problem? How would you fix it?\n> **Answer**: increase \\`nTrainingSteps\\`\n>\n> 3. Revert to initial conditions. Rerun the script with only 100 samples (using variable \\`nObs\\`). Does the training work? What&rsquo;s the problem? How would you fix it without increasing \\`nTrainingSteps\\`?\n> **Answer**: increase \\`learningRate\\`\n\n"
      ]
    }
  ],
  "metadata": {
    "org": null,
    "kernelspec": {
      "display_name": "Python 3",
      "language": "python",
      "name": "python3"
    },
    "language_info": {
      "codemirror_mode": {
        "name": "ipython",
        "version": 3
      },
      "file_extension": ".py",
      "mimetype": "text/x-python",
      "name": "python",
      "nbconvert_exporter": "python",
      "pygments_lexer": "ipython3",
      "version": "3.5.2"
    }
  },
  "nbformat": 4,
  "nbformat_minor": 0
}
