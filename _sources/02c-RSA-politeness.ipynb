{
  "cells": [
    {
      "cell_type": "markdown",
      "metadata": {
      },
      "source": "RSA with politeness\n===================\n\n"
    },
    {
      "cell_type": "markdown",
      "metadata": {
      },
      "source": [
        "**NB: preliminary placeholder version; still under construction**\n\n"
      ]
    },
    {
      "cell_type": "code",
      "execution_count": 1,
      "metadata": {
      },
      "outputs": [],
      "source": [
        "import numpy as np\nimport seaborn as sns\nimport pandas as pd\nimport matplotlib.pyplot as plt\n\n##################################################\n## helper functions\n##################################################\n\ndef softmax(x, axis=1):\n    \"\"\"\n    Softmax function in numpy\n    Parameters\n    ----------\n    x: array\n        An array with any dimensionality\n    axis: int\n        The axis along which to apply the softmax\n    Returns\n    -------\n    array\n        Same shape as x\n    \"\"\"\n    e_x = np.exp(x - np.max(x, axis, keepdims=True))\n    return e_x / e_x.sum(axis=axis, keepdims=True)\n\n\ndef normalize(arr, axis=1):\n    \"\"\"\n    Normalize arr along axis\n    \"\"\"\n    return arr / arr.sum(axis, keepdims=True)\n\n##################################################\n## model parameters\n##################################################\n\nalpha        = 10\nphi          = 0.99\nsocial_value = 1.25\n\n##################################################\n## RSA model set up\n##################################################\n\nstates     = [1,2,3,4,5]\nutterances = [\"terrible\",\"bad\",\"okay\",\"good\",\"amazing\"]\n\nsemantic_meaning = np.array(\n    [[.95 ,.85 ,.02 ,.02,.02],    # terrible\n     [.85 ,.95 ,.02 ,.02,.02],    # bad\n     [.02 ,.25 ,.95 ,.65,.35],    # okay\n     [.02 ,.05 ,.55 ,.95,.93],    # good\n     [.02 ,.02 ,.02 ,.65,.95]]    # amazing\n)\n\n##################################################\n## RSA speaker with politeness\n##################################################\n\ndef RSA_polite_speaker(alpha, phi, social_value):\n    \"\"\"\n    predictions of an RSA model with politeness (speaker part)\n    (following: http://www.problang.org/chapters/09-politeness.html)\n    Parameters\n    ----------\n    alpha: float\n        Optimality parameter\n    phi: float\n        Relative weight of epistemic utility component\n    social_value: float\n        Social value factor (how much more \"socially valuable\" is one more star?)\n    Returns\n    -------\n    array\n        probability that speaker chooses utterance for each state\n    \"\"\"\n    literal_listener   = normalize(semantic_meaning)\n    epistemic_utility  = np.log(np.transpose(literal_listener))\n    social_utility     = np.sum(literal_listener * np.array([states]) * social_value, axis=1)\n    util_speaker       = phi * epistemic_utility + (1-phi) * social_utility\n    pragmatic_speaker  = softmax(alpha * util_speaker)\n    return(pragmatic_speaker)\n\nRSA_speaker_predictions = RSA_polite_speaker(alpha, phi, social_value)\n\nspeaker  = pd.DataFrame(data    = RSA_speaker_predictions,\n                        index   = states,\n                        columns = utterances)\nspeaker['object'] = speaker.index\n\nprint(speaker.round(2))\n\nspeaker_long = speaker.melt(id_vars      = \"object\",\n                            var_name     = \"utterance\",\n                            value_name   = \"probability\",\n                            ignore_index = False)\nspeaker_plot = sns.FacetGrid(speaker_long, col=\"object\")\nspeaker_plot.map(sns.barplot, \"utterance\", \"probability\")\nplt.show()\n\n# Exercises:\n# - Change the call to the speaker to make it so that it only cares about making the listener feel good.\n# - Change the call to the speaker to make it so that it cares about both making the listener feel good and conveying information.\n# - Change the value of the social_value and examine the results.\n\n##################################################\n## pragmatic listener infers politeness level\n##################################################\n\n# which phi-values to consider\nphi_marks     = np.linspace(start=0, stop=1, num=11)\nphi_prior_flt = np.array([1,1,1,1,1,1,1,1,1,1,1])   # flat\nphi_prior_bsd = np.array([1,2,3,4,5,6,7,8,9,10,11]) # biased towards politeness\n\ndef RSA_polite_listener(alpha, phi_prior, social_value):\n    \"\"\"\n    predictions of an RSA model with politeness (listener part)\n    (following: http://www.problang.org/chapters/09-politeness.html)\n    Parameters\n    ----------\n    alpha: float\n        Optimality parameter\n    phi_priors: float\n        Prior over degree of politeness (phi-parameter)\n    social_value: float\n        Social value factor (how much more \"socially valuable\" is one more star?)\n    Returns\n    -------\n    array\n         for each message: listener posterior over state-phi pairs\n    \"\"\"\n    phi_prior = phi_prior / np.sum(phi_prior) # make sure priors are normalized\n    posterior = np.zeros((len(phi_marks), len(utterances),len(states)))\n    for i in range(len(phi_marks)):\n        pragmatic_speaker  = RSA_polite_speaker(alpha, phi_marks[i], social_value)\n        posterior[i,:,:]   = np.transpose(pragmatic_speaker) * phi_prior[i]\n    return(normalize(posterior, axis=(0,1)))\n\nRSA_listener_predictions = RSA_polite_listener(alpha, phi_prior_flt, social_value)\n\nprint(\"listener posterior over states after hearing 'amazing':\\n\",\n      np.sum(RSA_listener_predictions[:,:,4], axis=0))\n\n# TODO: why are the values numerically slightly off wrt to the WebPPL implementation?\n# TODO: cast the 3D array into DataFrame for plotting\n\niterables=[phi_marks, utterances, states]\nindex = pd.MultiIndex.from_product(iterables, names=['phi','utterance','state'])\n\nlistener = pd.DataFrame(RSA_listener_predictions.reshape(RSA_listener_predictions.size, 1),\n                        index=index)\nlistener = listener.reset_index()\n\n##################################################\n## plotting the results\n##################################################\n\ndef plot_listener(utterance_index):\n    print(\"plotting listener posterior for utterance:\", utterances[utterance_index])\n    predictions = RSA_listener_predictions[:,utterance_index,:]\n    sns.heatmap(predictions)\n    plt.show()\n\nplot_listener(3)\n\n# Exercises:\n# 1. Use the plotting function for different indeces (0-4). What is plotted here?\n#    What's on the x-axis, the y-axis, and what do the colors mean?\n# 2. Plot the results for the utterance \"good\". Describe the result in your own words.\n#    Comment on whether this makes sense to you, i.e., is the result an intuitive / natural\n#    interpretation of such an utterance (in the context we assume here)?"
      ]
    }
  ],
  "metadata": {
    "org": null,
    "kernelspec": {
      "display_name": "Python 3",
      "language": "python",
      "name": "python3"
    },
    "language_info": {
      "codemirror_mode": {
        "name": "ipython",
        "version": 3
      },
      "file_extension": ".py",
      "mimetype": "text/x-python",
      "name": "python",
      "nbconvert_exporter": "python",
      "pygments_lexer": "ipython3",
      "version": "3.5.2"
    }
  },
  "nbformat": 4,
  "nbformat_minor": 0
}
