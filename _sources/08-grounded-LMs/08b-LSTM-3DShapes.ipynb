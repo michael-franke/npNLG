{
  "cells": [
    {
      "cell_type": "markdown",
      "metadata": {
      },
      "source": "Sheet 8.1: An LSTM-based image captioner for the annotated 3D-Shapes data set\n=============================================================================\n\n**Author:** Michael Franke & Polina Tsvilodub\n\n"
    },
    {
      "cell_type": "markdown",
      "metadata": {
      },
      "source": [
        "In order to see how a custom-built neural image captioning (NIC) system can be implemented and used for inference, we look here at a relatively simple LSTM-based image captioner.\nTo shortcut the time it takes for training this model, we use downloadable weights from a trained version of this model.\nThe goal is to see the architecture in full detail and to get a feeling for the way in which images and text data is handled during inference.\nMost importantly, however, we will want to get a feeling for how good the model&rsquo;s predictions are, at least intuitively.\n\nThis tutorial uses a synthetic data set of annotations for the [3D Shapes data set](https://github.com/deepmind/3d-shapes), which we will refer to as &ldquo;annotated 3D Shapes data set&rdquo; or &ldquo;A3DS&rdquo; for short.\nOther image-captioning data sets (like MS-Coco) contain heterogeneous pictures and often only a small number of captions per picture, making it less clear whether it is the NIC&rsquo;s fault or the potentially poor quality of the data set that causes generations to be intuitively inadequate (garbled, untrue, over- or underspecified &#x2026;).\nIn contrast, using the A3DS data set, makes it easier to judge, on intuitive grounds, whether generated captions are any good.\n\n"
      ]
    },
    {
      "cell_type": "markdown",
      "metadata": {
      },
      "source": [
        "## Credits and origin of material\n\n"
      ]
    },
    {
      "cell_type": "markdown",
      "metadata": {
      },
      "source": [
        "The material presented in this tutorial is in large part based on work conducted by Polina Tsvilodub for her 2022 MSc thesis &ldquo;Language Drift of Multi-Agent Communication Systems in Reference Games&rdquo;.\nIn particular, the annotated 3D Shapes data set and the LSTM-based architecture stems from this thesis.\n\n"
      ]
    },
    {
      "cell_type": "markdown",
      "metadata": {
      },
      "source": [
        "## Necessary files\n\n"
      ]
    },
    {
      "cell_type": "markdown",
      "metadata": {
      },
      "source": [
        "You need additional files to run the code in this notebook.\nIf you are on CoLab use these commands to install.\n(Check if the files are installed in the right directory (&rsquo;A3DS&rsquo;) after unzipping).\n\n"
      ]
    },
    {
      "cell_type": "code",
      "execution_count": 1,
      "metadata": {
      },
      "outputs": [],
      "source": [
        "# !wget https://github.com/michael-franke/npNLG/raw/main/neural_pragmatic_nlg/data/A3DS/A3DS.zip\n# !unzip A3DS.zip"
      ]
    },
    {
      "cell_type": "markdown",
      "metadata": {
      },
      "source": [
        "## Packages\n\n"
      ]
    },
    {
      "cell_type": "markdown",
      "metadata": {
      },
      "source": [
        "On top of the usual suspects, we will use the &rsquo;Image&rsquo; and &rsquo;torchvision&rsquo; package to process image data.\nWe need package &rsquo;pickle&rsquo; to load image data and pre-trained model weights.\n\n"
      ]
    },
    {
      "cell_type": "code",
      "execution_count": 1,
      "metadata": {
      },
      "outputs": [],
      "source": [
        "##################################################\n## import packages\n##################################################\n\nimport torch\nimport torch.nn as nn\nfrom torch.utils.data import Dataset\nfrom torchtext.data import get_tokenizer\nfrom torchvision import transforms\nfrom PIL import Image\nimport matplotlib.pyplot as plt\nimport os\nimport numpy as np\nimport json\nimport random\nfrom random import shuffle\n# from tqdm import tqdm\nimport pickle\n# import 5py\n\nimport warnings\nwarnings.filterwarnings('ignore')"
      ]
    },
    {
      "cell_type": "markdown",
      "metadata": {
      },
      "source": [
        "## The A3DS data set\n\n"
      ]
    },
    {
      "cell_type": "markdown",
      "metadata": {
      },
      "source": [
        "The following code gives us PyTorch &rsquo;Dataset&rsquo; and &rsquo;DataLoader&rsquo; objects, with which to handle a 1k-subset of images and annotations from the A3DS data set.\n\n"
      ]
    },
    {
      "cell_type": "markdown",
      "metadata": {
      },
      "source": [
        "### The &rsquo;Dataset&rsquo; object\n\n"
      ]
    },
    {
      "cell_type": "markdown",
      "metadata": {
      },
      "source": [
        "Here is the definition of the &rsquo;Dataset&rsquo; object.\n\n"
      ]
    },
    {
      "cell_type": "code",
      "execution_count": 1,
      "metadata": {
      },
      "outputs": [],
      "source": [
        "class A3DS(Dataset):\n    \"\"\"\n    Dataset class for loading the dataset of images and captions from the 3dshapes dataset.\n\n    Arguments:\n    ---------\n    num_labels: int\n        Number of distinct captions to sample for each image. Relevant for using the dataloader for training models.\n    labels_type: str\n        \"long\" or \"short\". Indicates whether long or short captions should be used.\n    run_inference: bool\n        Flag indicating whether this dataset will be used for performing inference with a trained image captioner.\n    batch_size: int\n        Batch size. Has to be 1 in order to save the example image-caption pairs.\n    vocab_file: str\n        Name of vocab file.\n    start_token: str\n        Start token.\n    end_token: str\n        End token.\n    unk_token: str\n        Token to be used when encoding unknown tokens.\n    pad_token: str\n        Pad token to be used for padding captions tp max_sequence_length.\n    max_sequence_length: int\n        Length to which all captions are padded / truncated.\n    \"\"\"\n    def __init__(\n            self,\n            path=\"A3DS\",\n            num_labels=1, # number of ground truth labels to retrieve per image\n            labels_type=\"long\", # alternative: short\n            run_inference=False, # depending on this flag, check presence of model weights\n            batch_size=1,\n            vocab_file=\"vocab.pkl\",\n            start_token=\"START\",  # might be unnecessary since vocab file is fixed anyways\n            end_token=\"END\",\n            unk_token=\"UNK\",\n            pad_token=\"PAD\",\n            max_sequence_length=26, # important for padding length\n        ):\n\n        # check vocab file exists\n        assert os.path.exists(os.path.join(path, vocab_file)), \"Make sure the vocab file exists in the directory passed to the dataloader (see README)\"\n\n        # check if image file exists\n        assert (os.path.exists(os.path.join(path, \"sandbox_3Dshapes_1000.pkl\")) and os.path.join(path, \"sandbox_3Dshapes_resnet50_features_1000.pt\")), \"Make sure the sandbox dataset exists in the directory passed to the dataloader (see README)\"\n\n        if labels_type == \"long\":\n            assert num_labels <= 20, \"Maximally 20 distinct image-long caption pairs can be created for one image\"\n        else:\n            assert num_labels <= 27, \"Maximally 27 distinct image-short caption pairs can be created for one image\"\n\n        self.batch_size = batch_size\n        with open(os.path.join(path, vocab_file), \"rb\") as vf:\n            self.vocab = pickle.load(vf)\n\n        self.max_sequence_length = max_sequence_length\n        self.start_token = start_token\n        self.end_token = end_token\n        self.unk_token = unk_token\n        self.pad_token = pad_token\n        self.tokenizer = get_tokenizer(\"basic_english\")\n\n        self.embedded_imgs = torch.load(os.path.join(path, \"sandbox_3Dshapes_resnet50_features_1000.pt\"))\n        with open(os.path.join(path, \"sandbox_3Dshapes_1000.pkl\"), \"rb\") as f:\n            self.sandbox_file = pickle.load(f)\n            self.images = self.sandbox_file[\"images\"]\n            self.numeric_labels = self.sandbox_file[\"labels_numeric\"]\n            self.labels_long = self.sandbox_file[\"labels_long\"]\n            self.labels_short = self.sandbox_file[\"labels_short\"]\n\n        if labels_type == \"long\":\n            labels_ids_flat = [list(np.random.choice(range(len(self.labels_long[0])), num_labels, replace=False)) for i in range(len(self.images))]\n            self.labels_flat = [self.labels_long[i][l] for i, sublst in enumerate(labels_ids_flat) for l in sublst]\n            self.img_ids_flat = [id for id in range(len(self.images)) for i in range(num_labels)]\n        else:\n            labels_ids_flat = [list(np.random.choice(range(len(self.labels_short[0])), num_labels, replace=False)) for i in range(len(self.images))]\n            self.labels_flat = [self.labels_short[i][l] for i, sublst in enumerate(labels_ids_flat) for l in sublst]\n            self.img_ids_flat = [id for id in range(len(self.images)) for i in range(num_labels)]\n\n        # print(\"len labels ids flat \", len(labels_ids_flat))\n        # print(\"len labels flat \", len(self.labels_flat), self.labels_flat[:5])\n        # print(\"len image ids flat \", len(self.img_ids_flat), self.img_ids_flat[:5])\n\n    def __len__(self):\n        \"\"\"\n        Returns length of dataset.\n        \"\"\"\n        return len(self.img_ids_flat)\n\n    def __getitem__(self, idx):\n        \"\"\"\n        Iterator over the dataset.\n\n        Arguments:\n        ---------\n        idx: int\n            Index for accessing the flat image-caption pairs.\n\n        Returns:\n        -------\n        target_img: np.ndarray (64,64,3)\n            Original image.\n        target_features: torch.Tensor(2048,)\n            ResNet features of the image.\n        target_lbl: str\n            String caption.\n        numeric_lbl: np.ndarray (6,)\n            Original numeric image annotation.\n        target_caption: torch.Tensor(batch_size, 25)\n            Encoded caption.\n        \"\"\"\n        # access raw image corresponding to the index in the entire dataset\n        target_img = self.images[self.img_ids_flat[idx]]\n        # access caption\n        target_lbl = self.labels_flat[idx]\n        # access original numeric annotation of the image\n        numeric_lbl = self.numeric_labels[self.img_ids_flat[idx]]\n        # cast type\n        target_img = np.asarray(target_img).astype('uint8')\n        # retrieve ResNet features, accessed through original image ID\n        target_features = self.embedded_imgs[self.img_ids_flat[idx]]\n        # tokenize label\n        tokens = self.tokenizer(str(target_lbl).lower().replace(\"-\", \" \"))\n        # Convert caption to tensor of word ids, append start and end tokens.\n        target_caption = self.tokenize_caption(tokens)\n        # convert to tensor\n        target_caption = torch.Tensor(target_caption).long()\n\n        return target_img, target_features, target_lbl, numeric_lbl, target_caption\n\n    def tokenize_caption(self, label):\n        \"\"\"\n        Helper for converting list of tokens into list of token IDs.\n        Expects tokenized caption as input.\n\n        Arguments:\n        --------\n        label: list\n            Tokenized caption.\n\n        Returns:\n        -------\n        tokens: list\n            List of token IDs, prepended with start, end, padded to max length.\n        \"\"\"\n        label = label[:(self.max_sequence_length-2)]\n        tokens = [self.vocab[\"word2idx\"][self.start_token]]\n        for t in label:\n            try:\n                tokens.append(self.vocab[\"word2idx\"][t])\n            except:\n                tokens.append(self.vocab[\"word2idx\"][self.unk_token])\n        tokens.append(self.vocab[\"word2idx\"][self.end_token])\n        # pad\n        while len(tokens) < self.max_sequence_length:\n            tokens.append(self.vocab[\"word2idx\"][self.pad_token])\n\n        return tokens\n\n    def get_labels_for_image(self, id, caption_type=\"long\"):\n        \"\"\"\n        Helper for getting all annotations for a given image id.\n\n        Arguments:\n        ---------\n        id: int\n            Index of image caption pair containing the image\n            for which the full list of captions should be returned.\n        caption_type: str\n            \"long\" or \"short\". Indicates type of captions to provide.\n\n        Returns:\n        -------\n            List of all captions for given image.\n        \"\"\"\n        if caption_type == \"long\":\n            return self.labels_long[self.img_ids_flat[id]]\n        else:\n            return self.labels_short[self.img_ids_flat[id]]"
      ]
    },
    {
      "cell_type": "markdown",
      "metadata": {
      },
      "source": [
        "Lets instantiate the &rsquo;Dataset&rsquo; object and explore the structure of the A3DS data.\nNotice that there are a 1000 items in this subset of the A3DS data set.\n\n"
      ]
    },
    {
      "cell_type": "code",
      "execution_count": 1,
      "metadata": {
      },
      "outputs": [
        {
          "name": "stdout",
          "output_type": "stream",
          "text": "1000"
        }
      ],
      "source": [
        "A3DS_dataset = A3DS()\nprint(A3DS_dataset.__len__())"
      ]
    },
    {
      "cell_type": "markdown",
      "metadata": {
      },
      "source": [
        "Let&rsquo;s get a single item by some ID, here taking the first item.\n\n"
      ]
    },
    {
      "cell_type": "code",
      "execution_count": 1,
      "metadata": {
      },
      "outputs": [],
      "source": [
        "itemID=0\nimage, target_features, caption_text, numeric_lbl, caption_indx = A3DS_dataset.__getitem__(itemID)"
      ]
    },
    {
      "cell_type": "markdown",
      "metadata": {
      },
      "source": [
        "Each item is a tuple with 5 pieces of information.\nFor our purposes, the most important ones are in slot 0 (the image information) and in slot 2 (the caption as a text).\n\nLet&rsquo;s have a look at the image, which is stored as a tensor.\n\n"
      ]
    },
    {
      "cell_type": "code",
      "execution_count": 1,
      "metadata": {
      },
      "outputs": [
        {
          "name": "stdout",
          "output_type": "stream",
          "text": "#+begin_example\n[[[153 226 249]\n  [153 226 249]\n  [153 226 249]\n  ...\n  [153 226 249]\n  [153 226 249]\n  [153 226 249]]\n\n [[153 226 249]\n  [153 226 249]\n  [153 226 249]\n  ...\n  [153 226 249]\n  [153 226 249]\n  [153 226 249]]\n\n [[153 226 249]\n  [153 226 249]\n  [153 226 249]\n  ...\n  [153 226 249]\n  [153 226 249]\n  [153 226 249]]\n\n ...\n\n [[254   0   0]\n  [254   0   0]\n  [253   0   0]\n  ...\n  [214   0   0]\n  [216   0   0]\n  [219   0   0]]\n\n [[251   0   0]\n  [246   0   0]\n  [250   0   0]\n  ...\n  [220   0   0]\n  [215   0   0]\n  [212   0   0]]\n\n [[255   0   0]\n  [248   0   0]\n  [243   0   0]\n  ...\n  [219   0   0]\n  [219   0   0]\n  [217   0   0]]]\n#+end_example"
        },
        {
          "data": {
            "image/png": "[encoded data removed]",
            "text/plain": "<matplotlib.figure.Figure>"
          },
          "metadata": {
          },
          "output_type": "display_data"
        }
      ],
      "source": [
        "# picture\nprint(image)\n\n# plot image\nplt.imshow(image)\nplt.show()"
      ]
    },
    {
      "cell_type": "markdown",
      "metadata": {
      },
      "source": [
        "And here is a caption that goes with this picture.\n\n"
      ]
    },
    {
      "cell_type": "code",
      "execution_count": 1,
      "metadata": {
      },
      "outputs": [],
      "source": [
        "# ground-truth caption\nprint(caption_text)"
      ]
    },
    {
      "cell_type": "markdown",
      "metadata": {
      },
      "source": [
        "There are actually long and short captions for each image.\nWe have created an instance of the data set with one random long caption per image.\nWe can inspect the full list of short captions like so:\n\n"
      ]
    },
    {
      "cell_type": "code",
      "execution_count": 1,
      "metadata": {
      },
      "outputs": [
        {
          "name": "stdout",
          "output_type": "stream",
          "text": "#+begin_example\nthere is a small cylinder\nthere is a orange cylinder\nthere is a cylinder in the left corner\nthere is a cylinder in front of a purple wall\nthere is a cylinder on red floor\nthere is a small cylinder in the left corner\nthere is a small cylinder in front of a purple wall\nthere is a small cylinder on red floor\nthere is a orange cylinder in the left corner\nthere is a orange cylinder in front of a purple wall\nthere is a orange cylinder on red floor\na small cylinder\na orange cylinder\na cylinder in the left corner\na cylinder in front of a purple wall\na cylinder on red floor\na small cylinder in the left corner\na small cylinder in front of a purple wall\na small cylinder on red floor\na orange cylinder in the left corner\na orange cylinder in front of a purple wall\na orange cylinder on red floor\nthe cylinder is in the left corner\nthe cylinder is in front of a purple wall\nthe cylinder is on red floor\nthe cylinder is small\nthe cylinder is orange\n#+end_example"
        }
      ],
      "source": [
        "# Retrieve all short-captions for the image ID:\nall_short_caps = A3DS_dataset.get_labels_for_image(itemID, caption_type='short')\nfor c in all_short_caps:\n    print(c)"
      ]
    },
    {
      "cell_type": "markdown",
      "metadata": {
      },
      "source": [
        "And similarly for the long captions.\n\n"
      ]
    },
    {
      "cell_type": "code",
      "execution_count": 1,
      "metadata": {
      },
      "outputs": [
        {
          "name": "stdout",
          "output_type": "stream",
          "text": "#+begin_example\na small orange cylinder in the left corner in front of a purple wall on red floor\na small orange cylinder in the left corner on red floor in front of a purple wall\na small orange cylinder on red floor in the left corner in front of a purple wall\na small orange cylinder on red floor in front of a purple wall in the left corner\nthe picture shows a small orange cylinder in the left corner in front of a purple wall on red floor\nthe picture shows a small orange cylinder in the left corner on red floor in front of a purple wall\nthe picture shows a small orange cylinder on red floor in the left corner in front of a purple wall\nthe picture shows a small orange cylinder on red floor in front of a purple wall in the left corner\na small orange cylinder located in the left corner in front of a purple wall on red floor\na small orange cylinder located in the left corner on red floor in front of a purple\na small orange cylinder located on red floor in the left corner in front of a purple wall\na small orange cylinder located on red floor in front of a purple wall in the left corner\nthe small cylinder in the left corner in front of a purple wall on red floor is orange\nthe small cylinder in the left corner on red floor in front of a purple wall is orange\nthe small cylinder on red floor in the left corner in front of a purple wall is orange\nthe small cylinder on red floor in front of a purple wall in the left corner is orange\nthe orange cylinder in the left corner in front of a purple wall on red floor is small\nthe orange cylinder in the left corner on red floor in front of a purple wall is small\nthe orange cylinder on red floor in the left corner in front of a purple wall is small\nthe orange cylinder on red floor in front of a purple wall in the left corner is small\n#+end_example"
        }
      ],
      "source": [
        "# Retrieve all long-captions for the image ID:\n\nall_long_caps = A3DS_dataset.get_labels_for_image(itemID, caption_type='long')\nfor c in all_long_caps:\n    print(c)"
      ]
    },
    {
      "cell_type": "markdown",
      "metadata": {
      },
      "source": [
        "Finally, let&rsquo;s also have a look at the vocabulary for this A3DS data set:\n\n"
      ]
    },
    {
      "cell_type": "code",
      "execution_count": 1,
      "metadata": {
      },
      "outputs": [
        {
          "name": "stdout",
          "output_type": "stream",
          "text": "VOCAB:  dict_keys(['START', 'END', 'UNK', 'PAD', 'a', 'tiny', 'red', 'block', 'in', 'the', 'right', 'corner', 'front', 'of', 'wall', 'on', 'floor', 'picture', 'shows', 'standing', 'is', 'close', 'to', 'side', 'near', 'middle', 'nearly', 'left', 'cylinder', 'ball', 'pill', 'small', 'medium', 'sized', 'big', 'large', 'huge', 'giant', 'orange', 'yellow', 'light', 'green', 'dark', 'cyan', 'blue', 'purple', 'pink'])\nVOCAB SIZE:  47"
        }
      ],
      "source": [
        "vocab = A3DS_dataset.vocab[\"word2idx\"].keys()\nprint(\"VOCAB: \", vocab)\n\nvocab_size = len(vocab)\nprint(\"VOCAB SIZE: \", vocab_size)"
      ]
    },
    {
      "cell_type": "markdown",
      "metadata": {
      },
      "source": [
        "We see that this vocabulary is actually pretty small.\n\n"
      ]
    },
    {
      "cell_type": "markdown",
      "metadata": {
      },
      "source": [
        "### Creating a &rsquo;DataLoader&rsquo;\n\n"
      ]
    },
    {
      "cell_type": "markdown",
      "metadata": {
      },
      "source": [
        "Let&rsquo;s create a &rsquo;DataLoader&rsquo; for batches of a specified size, using a random shuffle of the data.\n\n"
      ]
    },
    {
      "cell_type": "code",
      "execution_count": 1,
      "metadata": {
      },
      "outputs": [],
      "source": [
        "batch_size = 50\nA3DS_data_loader = torch.utils.data.DataLoader(\n    dataset    = A3DS_dataset,\n    batch_size = batch_size,\n    shuffle    = True,\n)"
      ]
    },
    {
      "cell_type": "markdown",
      "metadata": {
      },
      "source": [
        "## The (pre-trained) LSTM NIC\n\n"
      ]
    },
    {
      "cell_type": "markdown",
      "metadata": {
      },
      "source": [
        "Definition of the LSTM-based neural image captioner as an instance of PyTorch&rsquo;s &rsquo;nn.Module&rsquo;:\n\n"
      ]
    },
    {
      "cell_type": "code",
      "execution_count": 1,
      "metadata": {
      },
      "outputs": [],
      "source": [
        "class DecoderRNN(nn.Module):\n    def __init__(self, embed_size, hidden_size, vocab_size, visual_embed_size, batch_size=1, num_layers=1):\n        \"\"\"\n        Initialize the language module consisting of a one-layer LSTM and\n        trainable embeddings. The image embeddings (both target and distractor!)\n        are used as additional context at every step of the training\n        (prepended to each word embedding).\n\n        Args:\n        -----\n            embed_size: int\n                Dimensionality of trainable embeddings.\n            hidden_size: int\n                Hidden/ cell state dimensionality of the LSTM.\n            vocab_size: int\n                Length of vocabulary.\n            visual_embed_size: int\n                Dimensionality of each image embedding to be appended at each time step as additional context.\n            batch_size: int\n                Batch size.\n            num_layers: int\n                Number of LSTM layers.\n        \"\"\"\n        super(DecoderRNN, self).__init__()\n        self.num_layers = num_layers\n        self.hidden_size = hidden_size\n        self.embed_size= embed_size\n        self.vocabulary_size = vocab_size\n        self.visual_embed_size = visual_embed_size\n        # embedding layer\n        self.embed = nn.Embedding(self.vocabulary_size, self.embed_size)\n        # layer projecting ResNet features of a single image to desired size\n        self.project = nn.Linear(2048, self.visual_embed_size)\n\n      # LSTM takes as input the word embedding with prepended embeddings of the two images at each time step\n        # note that the batch dimension comes first\n        self.lstm = nn.LSTM(self.embed_size + 2*self.visual_embed_size, self.hidden_size , self.num_layers, batch_first=True)\n        # transforming last lstm hidden state to scores over vocabulary\n        self.linear = nn.Linear(hidden_size, self.vocabulary_size)\n\n        self.batch_size = batch_size\n        # initial hidden state of the lstm\n        self.hidden = self.init_hidden(self.batch_size)\n\n        # initialization of the layers\n        self.embed.weight.data.uniform_(-0.1, 0.1)\n        self.linear.weight.data.uniform_(-0.1, 0.1)\n        self.linear.bias.data.fill_(0)\n\n    def init_hidden(self, batch_size):\n\n        \"\"\"\n        At the start of training, we need to initialize a hidden state;\n        Defines a hidden state with all zeroes\n        The axes are (num_layers, batch_size, hidden_size)\n        \"\"\"\n        # if torch.backends.mps.is_available():\n        #     device = torch.device(\"mps\")\n        # elif torch.cuda.is_available():\n        #     device = torch.device(\"cuda\")\n        # else:\n        #     device = torch.device(\"cpu\")\n        device = torch.device('cpu')\n\n        return (torch.zeros((1, batch_size, self.hidden_size), device=device), \\\n                torch.zeros((1, batch_size, self.hidden_size), device=device))\n\n    def forward(self, features, captions, prev_hidden):\n        \"\"\"\n        Perform forward step through the LSTM.\n\n        Args:\n        -----\n            features: torch.tensor(batch_size, 2, embed_size)\n                Embeddings of images, target and distractor concatenated in this order.\n            captions: torch.tensor(batch_size, caption_length)\n                Lists of indices representing tokens of each caption.\n            prev_hidden: (torch.tensor(num_layers, batch_size, hidden_size), torch.tensor(num_layers, batch_size, hidden_size))\n                Tuple containing previous hidden and cell states of the LSTM.\n        Returns:\n        ------\n            outputs: torch.tensor(batch_size, caption_length, embedding_dim)\n                Scores over vocabulary for each token in each caption.\n            hidden_state: (torch.tensor(num_layers, batch_size, hidden_size), torch.tensor(num_layers, batch_size, hidden_size))\n                Tuple containing new hidden and cell state of the LSTM.\n        \"\"\"\n\n        # features of shape (batch_size, 2, 2048)\n        image_emb = self.project(features) # image_emb should have shape (batch_size, 2, 512)\n        # concatenate target and distractor embeddings\n        img_features = torch.cat((image_emb[:, 0, :], image_emb[:, 1, :]), dim=-1).unsqueeze(1)\n        embeddings = self.embed(captions)\n        # repeat image features such that they can be prepended to each token\n        img_features_reps = img_features.repeat(1, embeddings.shape[1], 1)\n        # PREpend the feature embedding as additional context as first token, assume there is no END token\n        embeddings = torch.cat((img_features_reps, embeddings), dim=-1)\n        out, hidden_state = self.lstm(embeddings, prev_hidden)\n        # project LSTM predictions on to vocab\n        outputs = self.linear(out) # prediction shape is (batch_size, max_sequence_length, vocab_size)\n        # print(\"outputs shape in forward \", outputs.shape)\n        return outputs, hidden_state\n\n    def log_prob_helper(self, logits, values):\n        \"\"\"\n        Helper function for scoring the sampled token,\n        because it is not implemented for MPS yet.\n        Just duplicates source code from PyTorch.\n        \"\"\"\n        values = values.long().unsqueeze(-1)\n        values, log_pmf = torch.broadcast_tensors(values, logits)\n        values = values[..., :1]\n        return log_pmf.gather(-1, values).squeeze(-1)\n\n    def sample(self, inputs, max_sequence_length):\n        \"\"\"\n        Function for sampling a caption during functional (reference game) training.\n        Implements greedy sampling. Sampling stops when END token is sampled or when max_sequence_length is reached.\n        Also returns the log probabilities of the action (the sampled caption) for REINFORCE.\n\n        Args:\n        ----\n            inputs: torch.tensor(1, 1, embed_size)\n                pre-processed image tensor.\n            max_sequence_length: int\n                Max length of sequence which the nodel should generate.\n        Returns:\n        ------\n            output: list\n                predicted sentence (list of tensor ids).\n            log_probs: torch.Tensor\n                log probabilities of the generated tokens (up to and including first END token)\n            raw_outputs: torch.Tensor\n                Raw logits for each prediction timestep.\n            entropies: torch.Tesnor\n                Entropies at each generation timestep.\n        \"\"\"\n\n        # placeholders for output\n        output = []\n        raw_outputs = [] # for structural loss computation\n        log_probs = []\n        entropies = []\n        batch_size = inputs.shape[0]\n        softmax = nn.Softmax(dim=-1)\n        init_hiddens = self.init_hidden(batch_size)\n\n        # if torch.backends.mps.is_available():\n        #     device = torch.device(\"mps\")\n        # elif torch.cuda.is_available():\n        #     device = torch.device(\"cuda\")\n        # else:\n        #     device = torch.device(\"cpu\")\n        device = torch.device('cpu')\n\n        #### start sampling ####\n        for i in range(max_sequence_length):\n            if i == 0:\n                cat_samples = torch.tensor([0]).repeat(batch_size, 1)\n                hidden_state = init_hiddens\n\n            cat_samples = cat_samples.to(device)\n            inputs = inputs.to(device)\n\n            out, hidden_state = self.forward(inputs, cat_samples, hidden_state)\n            \n            # get and save probabilities and save raw outputs\n            raw_outputs.extend(out)\n            probs = softmax(out)\n\n            max_probs, cat_samples = torch.max(probs, dim = -1)\n            log_p = torch.log(max_probs)\n            entropy = -log_p * max_probs\n\n            top5_probs, top5_inds = torch.topk(probs, 5, dim=-1)\n\n            entropies.append(entropy)\n            output.append(cat_samples)\n            # cat_samples = torch.cat((cat_samples, cat_samples), dim=-1)\n            # print(\"Cat samples \", cat_samples)\n            log_probs.append(log_p)\n\n\n        output = torch.stack(output, dim=-1).squeeze(1)\n        # stack\n        log_probs = torch.stack(log_probs, dim=1).squeeze(-1)\n        entropies = torch.stack(entropies, dim=1).squeeze(-1)\n\n        ####\n        # get effective log prob and entropy values - the ones up to (including) END (word2idx = 1)\n        # mask positions after END - both entropy and log P should be 0 at those positions\n        end_mask = output.size(-1) - (torch.eq(output, 1).to(torch.int64).cumsum(dim=1) > 0).sum(dim=-1)\n        # include the END token\n        end_inds = end_mask.add_(1).clamp_(max=output.size(-1)) # shape: (batch_size,)\n        for pos, i in enumerate(end_inds):\n            # zero out log Ps and entropies\n            log_probs[pos, i:] = 0\n            entropies[pos, i:] = 0\n        ####\n\n        raw_outputs = torch.stack(raw_outputs, dim=1).view(batch_size, -1, self.vocabulary_size)\n        return output, log_probs, raw_outputs, entropies"
      ]
    },
    {
      "cell_type": "markdown",
      "metadata": {
      },
      "source": [
        "Instantiate the module (with appropriate specs), load weights and instantiate weights with pre-trained weights.\n\n"
      ]
    },
    {
      "cell_type": "code",
      "execution_count": 1,
      "metadata": {
      },
      "outputs": [
        {
          "name": "stdout",
          "output_type": "stream",
          "text": "<All keys matched successfully>"
        }
      ],
      "source": [
        "# decoder configs\nembed_size = 512\nvisual_embed_size = 512\nhidden_size = 512\n\ndecoder = DecoderRNN(embed_size, hidden_size, vocab_size, visual_embed_size)\n\n# Load the trained weights.\ndecoder_file = \"A3DS/pretrained_decoder_3dshapes.pkl\"\ndecoder.load_state_dict(torch.load(decoder_file))"
      ]
    },
    {
      "cell_type": "code",
      "execution_count": 1,
      "metadata": {
      },
      "outputs": [
        {
          "name": "stdout",
          "output_type": "stream",
          "text": "tensor([ 0,  9, 38, 28,  8,  9, 27, 11, 15,  6, 16,  8, 12, 13,  4, 45, 14, 20,\n        31,  1,  3,  3,  3,  3,  3,  3])\nhi!"
        }
      ],
      "source": [
        "itemID=0\nimage, target_feats, caption_text, numeric_lbl, caption_indx = A3DS_dataset.__getitem__(itemID)\nprint(caption_indx)"
      ]
    },
    {
      "cell_type": "markdown",
      "metadata": {
      },
      "source": [
        "The current NIC module was actually trained for later use of two pictures (contrastive image captioning).\nTherefore, we need to input the picture to be described not once, but twice.\n(This is otherwise completely innocuous for our current purposes of single-picture captioning.)\n\n"
      ]
    },
    {
      "cell_type": "code",
      "execution_count": 1,
      "metadata": {
      },
      "outputs": [],
      "source": [
        "target_features = target_feats.reshape(1,len(target_feats))\nboth_images     = torch.cat((target_features.unsqueeze(1), target_features.unsqueeze(1)), dim=1)\noutput, _, _, _ = decoder.sample(both_images, caption_indx.shape[0])\n\ndef clean_sentence(output):\n    \"\"\"\n    Helper function for visualization purposes.\n    Transforms list of token indices to a sentence.\n    Also accepts mulit-dim tensors (for batch size > 1).\n\n    Args:\n    ----\n    output: torch.Tensor(batch_size, sentence_length)\n        Tensor representing sentences in form of token indices.\n\n    Returns:\n    -------\n    sentence: str\n        String representing decoded sentences in natural language.\n    \"\"\"\n    list_string = []\n    for idx in output:\n        for i in idx:\n            try:\n                list_string.append(A3DS_dataset.vocab[\"idx2word\"][i.item()])\n            except ValueError:\n                for y in i:\n                    list_string.append(A3DS_dataset.vocab[\"idx2word\"][y.item()])\n    sentence = ' '.join(list_string) # Convert list of strings to full string\n    sentence = sentence.capitalize()  # Capitalize the first letter of the first word\n    # find index of end token for displaying\n    if \"end\" in sentence:\n        len_sentence = sentence.split(\" \").index(\"end\")\n    else:\n        len_sentence = len(sentence.split(\" \"))\n    cleaned_sentence = \" \".join(sentence.split()[:len_sentence])\n    return(cleaned_sentence)\n\nprint(clean_sentence(output))"
      ]
    },
    {
      "cell_type": "markdown",
      "metadata": {
      },
      "source": [
        "> <strong><span style=&ldquo;color:#D83D2B;&rdquo;>Exercise 8.1.1: </span></strong>\n>\n> 0. [Just for yourself] Try out different images and generate captions for them. Try to get a feeling for how reliable or good they are. Try to figure out what criteria you use when you intuitively judge a caption as good. Think about what &rsquo;goodness&rsquo; of a generated caption means (also in relation to the ground truth in the training set).\n>\n> 1. Describe the architecture of the decoder module that is used in in direct comparison to the set up from the paper [Vinyals et al. (2015)](https://arxiv.org/abs/1411.4555). Highlight at least two differences in model architecture between the decoder model used here and that of Vinyals et al. These differences should all be *major* differences, i.e., differences that *could* plausible have a strong impact on the quality of the results. I.o.w., do not mention trivialities.\n>\n> 2. Name at least two things that would be important to know for a direct, close reproduction of Vinyals et al. results that are not or only insufficiently described in the paper.\n\n"
      ]
    }
  ],
  "metadata": {
    "org": null,
    "kernelspec": {
      "display_name": "Python 3",
      "language": "python",
      "name": "python3"
    },
    "language_info": {
      "codemirror_mode": {
        "name": "ipython",
        "version": 3
      },
      "file_extension": ".py",
      "mimetype": "text/x-python",
      "name": "python",
      "nbconvert_exporter": "python",
      "pygments_lexer": "ipython3",
      "version": "3.5.2"
    }
  },
  "nbformat": 4,
  "nbformat_minor": 0
}
