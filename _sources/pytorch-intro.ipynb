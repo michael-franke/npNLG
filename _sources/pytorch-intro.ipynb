{
  "nbformat": 4,
  "nbformat_minor": 0,
  "metadata": {
    "colab": {
      "provenance": [],
      "collapsed_sections": []
    },
    "kernelspec": {
      "name": "python3",
      "display_name": "Python 3"
    },
    "language_info": {
      "name": "python"
    },
    "accelerator": "GPU",
    "gpuClass": "standard"
  },
  "cells": [
    {
      "cell_type": "markdown",
      "source": [
        "# **PyTorch introduction**"
      ],
      "metadata": {
        "id": "IUZ6V0IooZ9i"
      }
    },
    {
      "cell_type": "markdown",
      "source": [
        "This installation guide allows to choose from several version of PyTorch and generate ready-to-run installation command line code for your preferences: https://pytorch.org/get-started/locally/"
      ],
      "metadata": {
        "id": "QiXU1R11nlvx"
      }
    },
    {
      "cell_type": "code",
      "source": [
        "#runnable installation example: \n",
        "!pip3 install torch torchvision torchaudio"
      ],
      "metadata": {
        "id": "ZbqgkQDeoC2i"
      },
      "execution_count": null,
      "outputs": []
    },
    {
      "cell_type": "markdown",
      "source": [
        "After the preferred method of installation is complete, we import the library to make it usable:"
      ],
      "metadata": {
        "id": "FWyiLUOVmV4X"
      }
    },
    {
      "cell_type": "code",
      "source": [
        "import torch"
      ],
      "metadata": {
        "id": "Z7H-S2UKpriL"
      },
      "execution_count": null,
      "outputs": []
    },
    {
      "cell_type": "markdown",
      "source": [
        "# **Tensors**\n",
        "\n",
        "Tensors are default data structures used for neural networks in PyTorch. Tensor is basically a n-dimensioned arrays that represents a matrix containing elements of a single data type.\n",
        "\n",
        "\n",
        "\n",
        "Full documetation for torch.Tensor class: https://pytorch.org/docs/stable/tensors.html\n",
        "\n",
        "![main-qimg-8a42228263b908bec0de477a66c0f83e.webp](data:image/webp;base64,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)"
      ],
      "metadata": {
        "id": "9wXBwYoRdyfy"
      }
    },
    {
      "cell_type": "markdown",
      "source": [
        "**Initialising a tensor:**\n",
        "\n",
        "This section presents various ways to create a tensor in PyTorch. \n",
        "\n",
        "*   torch.tensor is a constructor which can create a tensor from a list or sequence\n",
        "*   torch.zeros, torch.ones and torch.full create a tensor of specified size filled with zeroes, ones or specified value respectively\n",
        "\n"
      ],
      "metadata": {
        "id": "Jxz4jsF7ofCo"
      }
    },
    {
      "cell_type": "markdown",
      "source": [
        "Tensor can be initialised from a list:"
      ],
      "metadata": {
        "id": "bx_Yp6QlpHwy"
      }
    },
    {
      "cell_type": "code",
      "source": [
        "a_list = [1, 2, 3, 4]\n",
        "tensor_from_list = torch.tensor(a_list)\n",
        "tensor_from_list"
      ],
      "metadata": {
        "colab": {
          "base_uri": "https://localhost:8080/"
        },
        "id": "Sr6SriiSpSS3",
        "outputId": "19e9f2a4-52df-4660-b91d-9ace5f562123"
      },
      "execution_count": null,
      "outputs": [
        {
          "output_type": "execute_result",
          "data": {
            "text/plain": [
              "tensor([1, 2, 3, 4])"
            ]
          },
          "metadata": {},
          "execution_count": 7
        }
      ]
    },
    {
      "cell_type": "markdown",
      "source": [
        "Or directly:"
      ],
      "metadata": {
        "id": "-HWPE0Db0-kK"
      }
    },
    {
      "cell_type": "code",
      "source": [
        "new_tensor = torch.tensor([1, 2, 3, 4])\n",
        "new_tensor"
      ],
      "metadata": {
        "colab": {
          "base_uri": "https://localhost:8080/"
        },
        "id": "ThdkUnDJ0z3X",
        "outputId": "1f67275e-be8f-4b13-bae2-f7e3add4967b"
      },
      "execution_count": null,
      "outputs": [
        {
          "output_type": "execute_result",
          "data": {
            "text/plain": [
              "tensor([1, 2, 3, 4])"
            ]
          },
          "metadata": {},
          "execution_count": 8
        }
      ]
    },
    {
      "cell_type": "markdown",
      "source": [
        "Tensor constructor will replicate shape and dimensionality of the data passed to it:"
      ],
      "metadata": {
        "id": "O1rXB4E72F0L"
      }
    },
    {
      "cell_type": "code",
      "source": [
        "tensor_0d = torch.tensor(1)\n",
        "tensor_0d"
      ],
      "metadata": {
        "colab": {
          "base_uri": "https://localhost:8080/"
        },
        "id": "ZrpLqTaA16oS",
        "outputId": "12b33701-b655-406d-bc1f-dc90100e5111"
      },
      "execution_count": null,
      "outputs": [
        {
          "output_type": "execute_result",
          "data": {
            "text/plain": [
              "tensor(1)"
            ]
          },
          "metadata": {},
          "execution_count": 9
        }
      ]
    },
    {
      "cell_type": "code",
      "source": [
        "tensor_2d = torch.tensor([[1,2,3],[4,5,6]])\n",
        "tensor_2d"
      ],
      "metadata": {
        "colab": {
          "base_uri": "https://localhost:8080/"
        },
        "id": "cOVHUdT_2WiU",
        "outputId": "2fe0b5f8-7baa-4496-a09d-4f588046dba8"
      },
      "execution_count": null,
      "outputs": [
        {
          "output_type": "execute_result",
          "data": {
            "text/plain": [
              "tensor([[1, 2, 3],\n",
              "        [4, 5, 6]])"
            ]
          },
          "metadata": {},
          "execution_count": 10
        }
      ]
    },
    {
      "cell_type": "markdown",
      "source": [
        "Tensor can also be constructed from numpy.array:"
      ],
      "metadata": {
        "id": "ewBflDrhozVf"
      }
    },
    {
      "cell_type": "code",
      "source": [
        "import numpy as np\n",
        "\n",
        "np_array = np.zeros((2,2))\n",
        "np_array_to_tensor = torch.tensor(np_array)\n",
        "np_array_to_tensor"
      ],
      "metadata": {
        "colab": {
          "base_uri": "https://localhost:8080/"
        },
        "id": "o7sr9__npQGt",
        "outputId": "d4c6d441-c5af-4194-c266-dc9cd5a5a019"
      },
      "execution_count": null,
      "outputs": [
        {
          "output_type": "execute_result",
          "data": {
            "text/plain": [
              "tensor([[0., 0.],\n",
              "        [0., 0.]], dtype=torch.float64)"
            ]
          },
          "metadata": {},
          "execution_count": 11
        }
      ]
    },
    {
      "cell_type": "markdown",
      "source": [
        "Or with build-in torch functionality:"
      ],
      "metadata": {
        "id": "yHlHd9bz3QRl"
      }
    },
    {
      "cell_type": "code",
      "source": [
        "zeros = torch.zeros((2,2))\n",
        "zeros"
      ],
      "metadata": {
        "id": "GY-5nmem3NVc"
      },
      "execution_count": null,
      "outputs": []
    },
    {
      "cell_type": "code",
      "source": [
        "ones = torch.ones((2,3))\n",
        "ones"
      ],
      "metadata": {
        "colab": {
          "base_uri": "https://localhost:8080/"
        },
        "id": "zmWwQLf7_F1Y",
        "outputId": "4c582888-9276-4e21-c729-def35d9458f6"
      },
      "execution_count": null,
      "outputs": [
        {
          "output_type": "execute_result",
          "data": {
            "text/plain": [
              "tensor([[1., 1., 1.],\n",
              "        [1., 1., 1.]])"
            ]
          },
          "metadata": {},
          "execution_count": 13
        }
      ]
    },
    {
      "cell_type": "code",
      "source": [
        "filled = torch.full((4,3), 5)\n",
        "filled"
      ],
      "metadata": {
        "colab": {
          "base_uri": "https://localhost:8080/"
        },
        "id": "dReY_EdZ7hRn",
        "outputId": "785cbbc6-423f-4d01-af0b-05eebb01545b"
      },
      "execution_count": null,
      "outputs": [
        {
          "output_type": "execute_result",
          "data": {
            "text/plain": [
              "tensor([[5, 5, 5],\n",
              "        [5, 5, 5],\n",
              "        [5, 5, 5],\n",
              "        [5, 5, 5]])"
            ]
          },
          "metadata": {},
          "execution_count": 14
        }
      ]
    },
    {
      "cell_type": "markdown",
      "source": [
        "Tensor-supported data types: \n",
        "- numeric: float, int \n",
        "- boolean\n",
        "- complex numbers\n",
        "\n",
        "All the values in the same tensor are of the same data type.\n"
      ],
      "metadata": {
        "id": "9j1Q3XIkjx4D"
      }
    },
    {
      "cell_type": "code",
      "source": [
        "true = torch.tensor([True, True])\n",
        "true"
      ],
      "metadata": {
        "id": "3jXElaobpk4z",
        "outputId": "1fad595e-c653-42e2-e7ac-4bce2689bfd4",
        "colab": {
          "base_uri": "https://localhost:8080/"
        }
      },
      "execution_count": null,
      "outputs": [
        {
          "output_type": "execute_result",
          "data": {
            "text/plain": [
              "tensor([True, True])"
            ]
          },
          "metadata": {},
          "execution_count": 17
        }
      ]
    },
    {
      "cell_type": "code",
      "source": [
        "true.dtype"
      ],
      "metadata": {
        "id": "fIKePzutprp0"
      },
      "execution_count": null,
      "outputs": []
    },
    {
      "cell_type": "code",
      "source": [
        "true = torch.tensor([True, 1])\n",
        "true"
      ],
      "metadata": {
        "colab": {
          "base_uri": "https://localhost:8080/"
        },
        "id": "BKv2Cv0Vh_jN",
        "outputId": "36cb35d9-a9b3-44f7-8a4a-a4ebf14d39b0"
      },
      "execution_count": null,
      "outputs": [
        {
          "output_type": "execute_result",
          "data": {
            "text/plain": [
              "tensor([1, 1])"
            ]
          },
          "metadata": {},
          "execution_count": 15
        }
      ]
    },
    {
      "cell_type": "code",
      "source": [
        "true.dtype"
      ],
      "metadata": {
        "colab": {
          "base_uri": "https://localhost:8080/"
        },
        "id": "eb9gDRC3pdN0",
        "outputId": "d7dd6962-e94c-4e9f-e70b-f3fecb0c0b9f"
      },
      "execution_count": null,
      "outputs": [
        {
          "output_type": "execute_result",
          "data": {
            "text/plain": [
              "torch.int64"
            ]
          },
          "metadata": {},
          "execution_count": 16
        }
      ]
    },
    {
      "cell_type": "markdown",
      "source": [
        "What about strings?\n",
        "PyTorch tensors have no character or string data type support."
      ],
      "metadata": {
        "id": "tGZK15JM9jX0"
      }
    },
    {
      "cell_type": "code",
      "source": [
        "hello = 'Hello World!'\n",
        "hello_tensor = torch.tensor([ord(char) for char in hello])\n",
        "hello_tensor"
      ],
      "metadata": {
        "id": "JQVkep_npsCy",
        "colab": {
          "base_uri": "https://localhost:8080/"
        },
        "outputId": "7d8ff566-8de6-457b-c469-5b6619029f19"
      },
      "execution_count": null,
      "outputs": [
        {
          "output_type": "execute_result",
          "data": {
            "text/plain": [
              "tensor([ 72, 101, 108, 108, 111,  32,  87, 111, 114, 108, 100,  33])"
            ]
          },
          "metadata": {},
          "execution_count": 33
        }
      ]
    },
    {
      "cell_type": "markdown",
      "source": [
        "**Attributes of a tensor:**"
      ],
      "metadata": {
        "id": "VdlQgtdPrdNp"
      }
    },
    {
      "cell_type": "code",
      "source": [
        "print(f\"Shape of tensor: {hello_tensor.shape}\")\n",
        "print(f\"Datatype of tensor: {hello_tensor.dtype}\")\n",
        "print(f\"Device tensor is stored on: {hello_tensor.device}\")"
      ],
      "metadata": {
        "colab": {
          "base_uri": "https://localhost:8080/"
        },
        "id": "pnp2-IrZyyRZ",
        "outputId": "aceefe39-d6fd-449a-82f5-29496f58b474"
      },
      "execution_count": null,
      "outputs": [
        {
          "output_type": "stream",
          "name": "stdout",
          "text": [
            "Shape of tensor: torch.Size([12])\n",
            "Datatype of tensor: torch.int64\n",
            "Device tensor is stored on: cpu\n"
          ]
        }
      ]
    },
    {
      "cell_type": "markdown",
      "source": [
        "# Slicing and indexing\n",
        "\n",
        "The same slicing method used on arrays and numpy arrays can be used on tensors as well. The retured result will also be a tensor."
      ],
      "metadata": {
        "id": "4tSMIxZqdsj3"
      }
    },
    {
      "cell_type": "code",
      "source": [
        "bigger_tensor = torch.tensor([[1,2,3],[4,5,6],[7,8,9],[10,11,12]])\n",
        "first_row = bigger_tensor[0]\n",
        "last_row = bigger_tensor[3]\n",
        "first_row"
      ],
      "metadata": {
        "colab": {
          "base_uri": "https://localhost:8080/"
        },
        "id": "_Wynz25EzQHR",
        "outputId": "90ed6018-2785-4e6b-9e75-43516e727002"
      },
      "execution_count": null,
      "outputs": [
        {
          "output_type": "execute_result",
          "data": {
            "text/plain": [
              "tensor([1, 2, 3])"
            ]
          },
          "metadata": {},
          "execution_count": 55
        }
      ]
    },
    {
      "cell_type": "code",
      "source": [
        "first_column = bigger_tensor[:,0]\n",
        "first_column"
      ],
      "metadata": {
        "colab": {
          "base_uri": "https://localhost:8080/"
        },
        "id": "L83hW5taz9B4",
        "outputId": "b9573023-c67b-4885-a24c-b3c2b827f518"
      },
      "execution_count": null,
      "outputs": [
        {
          "output_type": "execute_result",
          "data": {
            "text/plain": [
              "tensor([ 1,  4,  7, 10])"
            ]
          },
          "metadata": {},
          "execution_count": 40
        }
      ]
    },
    {
      "cell_type": "markdown",
      "source": [
        "**Joining tensors:**"
      ],
      "metadata": {
        "id": "ElUyqVNu1QH2"
      }
    },
    {
      "cell_type": "code",
      "source": [
        "head_and_tail = torch.cat([first_row, last_row])\n",
        "head_and_tail"
      ],
      "metadata": {
        "colab": {
          "base_uri": "https://localhost:8080/"
        },
        "id": "G2VV_0lj1NiO",
        "outputId": "be3f228f-20b8-4fc2-b104-a92e37c8bd1d"
      },
      "execution_count": null,
      "outputs": [
        {
          "output_type": "execute_result",
          "data": {
            "text/plain": [
              "tensor([ 1,  2,  3, 10, 11, 12])"
            ]
          },
          "metadata": {},
          "execution_count": 60
        }
      ]
    },
    {
      "cell_type": "markdown",
      "source": [
        "**What if we want to add a dimension?**"
      ],
      "metadata": {
        "id": "YJ93SbYz2j6E"
      }
    },
    {
      "cell_type": "code",
      "source": [
        "head_and_tail = torch.stack([first_row, last_row])\n",
        "head_and_tail"
      ],
      "metadata": {
        "colab": {
          "base_uri": "https://localhost:8080/"
        },
        "id": "TCZAvXsr2iuS",
        "outputId": "fec5e85a-e7d0-4b26-9c76-93540572c239"
      },
      "execution_count": null,
      "outputs": [
        {
          "output_type": "execute_result",
          "data": {
            "text/plain": [
              "tensor([[ 1,  2,  3],\n",
              "        [10, 11, 12]])"
            ]
          },
          "metadata": {},
          "execution_count": 61
        }
      ]
    },
    {
      "cell_type": "markdown",
      "source": [
        "**Accesing a single value output with indices:**"
      ],
      "metadata": {
        "id": "SbTKw-S80TC2"
      }
    },
    {
      "cell_type": "code",
      "source": [
        "value = bigger_tensor[1][2]\n",
        "value"
      ],
      "metadata": {
        "colab": {
          "base_uri": "https://localhost:8080/"
        },
        "id": "X0iZyvFG0Sb5",
        "outputId": "174310d5-04c0-4328-e841-635d225989c1"
      },
      "execution_count": null,
      "outputs": [
        {
          "output_type": "execute_result",
          "data": {
            "text/plain": [
              "tensor(6)"
            ]
          },
          "metadata": {},
          "execution_count": 48
        }
      ]
    },
    {
      "cell_type": "markdown",
      "source": [
        "**tensor.item()** function returns a value of a single-item tensor:"
      ],
      "metadata": {
        "id": "6jCnPU8-03um"
      }
    },
    {
      "cell_type": "code",
      "source": [
        "value.item()"
      ],
      "metadata": {
        "colab": {
          "base_uri": "https://localhost:8080/"
        },
        "id": "uGcxeC8S1CPc",
        "outputId": "c7049657-99eb-4e1d-fbba-3dbbc91b8b48"
      },
      "execution_count": null,
      "outputs": [
        {
          "output_type": "execute_result",
          "data": {
            "text/plain": [
              "6"
            ]
          },
          "metadata": {},
          "execution_count": 49
        }
      ]
    },
    {
      "cell_type": "markdown",
      "source": [
        "# Reshaping\n",
        "\n",
        "**torch.reshape()** is a frequently used way of returning a tensor in the specified shape. "
      ],
      "metadata": {
        "id": "j-V1Cvofrmwh"
      }
    },
    {
      "cell_type": "code",
      "source": [
        "tensor_1 = torch.tensor([[1, 2], [3, 4]])\n",
        "tensor_2 = tensor_1.reshape(4, 1)\n",
        "\n",
        "print(tensor_2)\n"
      ],
      "metadata": {
        "colab": {
          "base_uri": "https://localhost:8080/"
        },
        "id": "8wlY9jhrs5x7",
        "outputId": "fd7d6c15-04c4-4c4f-ea56-693d1f9bf8eb"
      },
      "execution_count": null,
      "outputs": [
        {
          "output_type": "stream",
          "name": "stdout",
          "text": [
            "tensor([[1],\n",
            "        [2],\n",
            "        [3],\n",
            "        [4]])\n"
          ]
        }
      ]
    },
    {
      "cell_type": "code",
      "source": [
        "a = torch.tensor([[0, 1], [2, 3]])\n",
        "b = torch.reshape(a, (-1,))\n",
        "\n",
        "print(a)"
      ],
      "metadata": {
        "colab": {
          "base_uri": "https://localhost:8080/"
        },
        "id": "UMAfgARKtPkD",
        "outputId": "fb1bff88-baaf-4117-c6ec-5d05ef7a676f"
      },
      "execution_count": null,
      "outputs": [
        {
          "output_type": "stream",
          "name": "stdout",
          "text": [
            "tensor([[0, 1],\n",
            "        [2, 3]])\n"
          ]
        }
      ]
    },
    {
      "cell_type": "markdown",
      "source": [
        "# Transposing\n",
        "\n",
        "It is possible to transpose a tensor by specified dimesions using the method:   \n",
        "**torch.transpose(input_tens, dim_0, dim_1).**"
      ],
      "metadata": {
        "id": "hPEDSbqXt4pl"
      }
    },
    {
      "cell_type": "code",
      "source": [
        "tensor_1 = torch.tensor([[10, 20, 30],\n",
        "                         [40, 50, 60],\n",
        "                         [70, 80, 90]])\n",
        "\n",
        "tensor_1_transpose = torch.transpose(tensor_1, 0, 1)\n",
        "\n",
        "print(tensor_1_transpose)"
      ],
      "metadata": {
        "colab": {
          "base_uri": "https://localhost:8080/"
        },
        "id": "d1ZcZxB-uTCs",
        "outputId": "0779346b-8764-4c65-a1be-2888ced71bab"
      },
      "execution_count": null,
      "outputs": [
        {
          "output_type": "stream",
          "name": "stdout",
          "text": [
            "tensor([[10, 40, 70],\n",
            "        [20, 50, 80],\n",
            "        [30, 60, 90]])\n"
          ]
        }
      ]
    },
    {
      "cell_type": "markdown",
      "source": [
        "# Matrix Multiplication\n",
        "\n",
        "To perform a matrix multiplications on tensors, we use the method:               **torch.mm(tensor1, tensor2)**\n",
        "\n",
        "If tensor1 is a **(n×m)** tensor, and tensor2 is a **(m×p)** tensor, the output will be a **(n×p)** tensor.\n"
      ],
      "metadata": {
        "id": "jEWH9TIYru6_"
      }
    },
    {
      "cell_type": "code",
      "source": [
        "tensor_1 = torch.tensor([[1, 2], [3, 4], [3, 4]])\n",
        "tensor_2 = torch.tensor([[5, 6], [7, 8], [9, 10]])\n",
        "\n",
        "product = torch.mm(tensor_1, tensor_2)\n",
        "\n",
        "print(product)\n"
      ],
      "metadata": {
        "id": "54iBmlYkxZY-",
        "colab": {
          "base_uri": "https://localhost:8080/",
          "height": 237
        },
        "outputId": "f9b5714a-924a-43ec-abde-0cf2a0ec44c5"
      },
      "execution_count": null,
      "outputs": [
        {
          "output_type": "error",
          "ename": "RuntimeError",
          "evalue": "ignored",
          "traceback": [
            "\u001b[0;31m---------------------------------------------------------------------------\u001b[0m",
            "\u001b[0;31mRuntimeError\u001b[0m                              Traceback (most recent call last)",
            "\u001b[0;32m<ipython-input-9-6c0326fc070e>\u001b[0m in \u001b[0;36m<module>\u001b[0;34m\u001b[0m\n\u001b[1;32m      2\u001b[0m \u001b[0mtensor_2\u001b[0m \u001b[0;34m=\u001b[0m \u001b[0mtorch\u001b[0m\u001b[0;34m.\u001b[0m\u001b[0mtensor\u001b[0m\u001b[0;34m(\u001b[0m\u001b[0;34m[\u001b[0m\u001b[0;34m[\u001b[0m\u001b[0;36m5\u001b[0m\u001b[0;34m,\u001b[0m \u001b[0;36m6\u001b[0m\u001b[0;34m]\u001b[0m\u001b[0;34m,\u001b[0m \u001b[0;34m[\u001b[0m\u001b[0;36m7\u001b[0m\u001b[0;34m,\u001b[0m \u001b[0;36m8\u001b[0m\u001b[0;34m]\u001b[0m\u001b[0;34m,\u001b[0m \u001b[0;34m[\u001b[0m\u001b[0;36m9\u001b[0m\u001b[0;34m,\u001b[0m \u001b[0;36m10\u001b[0m\u001b[0;34m]\u001b[0m\u001b[0;34m]\u001b[0m\u001b[0;34m)\u001b[0m\u001b[0;34m\u001b[0m\u001b[0;34m\u001b[0m\u001b[0m\n\u001b[1;32m      3\u001b[0m \u001b[0;34m\u001b[0m\u001b[0m\n\u001b[0;32m----> 4\u001b[0;31m \u001b[0mproduct\u001b[0m \u001b[0;34m=\u001b[0m \u001b[0mtorch\u001b[0m\u001b[0;34m.\u001b[0m\u001b[0mmm\u001b[0m\u001b[0;34m(\u001b[0m\u001b[0mtensor_1\u001b[0m\u001b[0;34m,\u001b[0m \u001b[0mtensor_2\u001b[0m\u001b[0;34m)\u001b[0m\u001b[0;34m\u001b[0m\u001b[0;34m\u001b[0m\u001b[0m\n\u001b[0m\u001b[1;32m      5\u001b[0m \u001b[0;34m\u001b[0m\u001b[0m\n\u001b[1;32m      6\u001b[0m \u001b[0mprint\u001b[0m\u001b[0;34m(\u001b[0m\u001b[0mproduct\u001b[0m\u001b[0;34m)\u001b[0m\u001b[0;34m\u001b[0m\u001b[0;34m\u001b[0m\u001b[0m\n",
            "\u001b[0;31mRuntimeError\u001b[0m: mat1 and mat2 shapes cannot be multiplied (3x2 and 3x2)"
          ]
        }
      ]
    },
    {
      "cell_type": "markdown",
      "source": [
        "Linear model:\n",
        "\n",
        "x*w + b = y"
      ],
      "metadata": {
        "id": "pARlwBJcsyM0"
      }
    },
    {
      "cell_type": "markdown",
      "source": [
        "Loss"
      ],
      "metadata": {
        "id": "JIOM-K8bsIxC"
      }
    }
  ]
}