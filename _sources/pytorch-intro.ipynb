{
  "cells": [
    {
      "cell_type": "markdown",
      "metadata": {
        "id": "IUZ6V0IooZ9i"
      },
      "source": [
        "# **PyTorch introduction**"
      ]
    },
    {
      "cell_type": "markdown",
      "metadata": {
        "id": "QiXU1R11nlvx"
      },
      "source": [
        "If you want to install PyTorch locally on your machine, follow these instructions: https://pytorch.org/get-started/locally/"
      ]
    },
    {
      "cell_type": "markdown",
      "metadata": {
        "id": "FWyiLUOVmV4X"
      },
      "source": [
        "If installed, import the library to make it usable:"
      ]
    },
    {
      "cell_type": "code",
      "execution_count": null,
      "metadata": {
        "id": "Z7H-S2UKpriL"
      },
      "outputs": [],
      "source": [
        "import torch"
      ]
    },
    {
      "cell_type": "markdown",
      "metadata": {
        "id": "9wXBwYoRdyfy"
      },
      "source": [
        "# **Tensors**\n",
        "\n",
        "Tensors are the default data structure used for the representation of numbers in PyTorch.\n",
        "In mathematics (algebra), a tensor is a generalization of the concept of a matrix.\n",
        "For our purposes, let's think of a tensor as basically an $n$-dimensional array of numbers.\n",
        "\n",
        "For example, a single scalar (a single number) is a zero-dimensional array.\n",
        "An $n$-dimensional vector is a one-dimensional array of $n$ numbers.\n",
        "An $n \\times m$ matrix is a two-dimensional array with $n$ rows and $m$ columns.\n",
        "All of these -scalars, vectors and matrices- are tensors.\n",
        "But *tensors also include even more high-dimensional objects*.\n",
        "For instance, an $k \\times n \\times m$ tensor is a three-dimensional array, which includes $k$ matrices, each of which has $n$ rows and $m$ columns.\n",
        "And so on.\n",
        "\n",
        "Full documetation for torch.Tensor class: https://pytorch.org/docs/stable/tensors.html\n",
        "\n",
        "![scalars-vectors-matrices-tensors](pics/scalars-vectors-matrices-tensors.png)\n"
      ]
    },
    {
      "cell_type": "markdown",
      "metadata": {},
      "source": [
        "***\n",
        "\n",
        "> <strong><span style=\"color:#D83D2B;\">Exercise 1: Dimensions of tensors</span></strong>\n",
        ">\n",
        "> What are the dimensions of the following tensors?\n",
        "> \n",
        "> 1. $1$\n",
        "> 2. $[1,2,3]$\n",
        "> 3. $[[1,2], [3,4]]$\n",
        "> 4. $[[1,2], [3,4], [5,6]]$\n",
        "> 5. $[[[1,2], [3,4], [5,6]]]$\n",
        "\n",
        "***"
      ]
    },
    {
      "cell_type": "markdown",
      "metadata": {
        "id": "Jxz4jsF7ofCo"
      },
      "source": [
        "**Initialising a tensor:**\n",
        "\n",
        "This section presents various ways to create a tensor in PyTorch. \n",
        "\n",
        "*   torch.tensor is a constructor which can create a tensor from a list or sequence\n",
        "*   torch.zeros, torch.ones and torch.full create a tensor of specified size filled with zeroes, ones or specified value respectively\n",
        "\n"
      ]
    },
    {
      "cell_type": "markdown",
      "metadata": {
        "id": "bx_Yp6QlpHwy"
      },
      "source": [
        "Tensor can be initialised from a list:"
      ]
    },
    {
      "cell_type": "code",
      "execution_count": null,
      "metadata": {
        "colab": {
          "base_uri": "https://localhost:8080/"
        },
        "id": "Sr6SriiSpSS3",
        "outputId": "19e9f2a4-52df-4660-b91d-9ace5f562123"
      },
      "outputs": [
        {
          "data": {
            "text/plain": [
              "tensor([1, 2, 3, 4])"
            ]
          },
          "execution_count": 7,
          "metadata": {},
          "output_type": "execute_result"
        }
      ],
      "source": [
        "a_list = [1, 2, 3, 4]\n",
        "tensor_from_list = torch.tensor(a_list)\n",
        "tensor_from_list"
      ]
    },
    {
      "cell_type": "markdown",
      "metadata": {
        "id": "-HWPE0Db0-kK"
      },
      "source": [
        "Or directly:"
      ]
    },
    {
      "cell_type": "code",
      "execution_count": null,
      "metadata": {
        "colab": {
          "base_uri": "https://localhost:8080/"
        },
        "id": "ThdkUnDJ0z3X",
        "outputId": "1f67275e-be8f-4b13-bae2-f7e3add4967b"
      },
      "outputs": [
        {
          "data": {
            "text/plain": [
              "tensor([1, 2, 3, 4])"
            ]
          },
          "execution_count": 8,
          "metadata": {},
          "output_type": "execute_result"
        }
      ],
      "source": [
        "new_tensor = torch.tensor([1, 2, 3, 4])\n",
        "new_tensor"
      ]
    },
    {
      "cell_type": "markdown",
      "metadata": {
        "id": "O1rXB4E72F0L"
      },
      "source": [
        "Tensor constructor will replicate shape and dimensionality of the data passed to it:"
      ]
    },
    {
      "cell_type": "code",
      "execution_count": null,
      "metadata": {
        "colab": {
          "base_uri": "https://localhost:8080/"
        },
        "id": "ZrpLqTaA16oS",
        "outputId": "12b33701-b655-406d-bc1f-dc90100e5111"
      },
      "outputs": [
        {
          "data": {
            "text/plain": [
              "tensor(1)"
            ]
          },
          "execution_count": 9,
          "metadata": {},
          "output_type": "execute_result"
        }
      ],
      "source": [
        "tensor_0d = torch.tensor(1)\n",
        "tensor_0d"
      ]
    },
    {
      "cell_type": "code",
      "execution_count": null,
      "metadata": {
        "colab": {
          "base_uri": "https://localhost:8080/"
        },
        "id": "cOVHUdT_2WiU",
        "outputId": "2fe0b5f8-7baa-4496-a09d-4f588046dba8"
      },
      "outputs": [
        {
          "data": {
            "text/plain": [
              "tensor([[1, 2, 3],\n",
              "        [4, 5, 6]])"
            ]
          },
          "execution_count": 10,
          "metadata": {},
          "output_type": "execute_result"
        }
      ],
      "source": [
        "tensor_2d = torch.tensor([[1,2,3],[4,5,6]])\n",
        "tensor_2d"
      ]
    },
    {
      "cell_type": "markdown",
      "metadata": {
        "id": "ewBflDrhozVf"
      },
      "source": [
        "Tensor can also be constructed from numpy.array:"
      ]
    },
    {
      "cell_type": "code",
      "execution_count": null,
      "metadata": {
        "colab": {
          "base_uri": "https://localhost:8080/"
        },
        "id": "o7sr9__npQGt",
        "outputId": "d4c6d441-c5af-4194-c266-dc9cd5a5a019"
      },
      "outputs": [
        {
          "data": {
            "text/plain": [
              "tensor([[0., 0.],\n",
              "        [0., 0.]], dtype=torch.float64)"
            ]
          },
          "execution_count": 11,
          "metadata": {},
          "output_type": "execute_result"
        }
      ],
      "source": [
        "import numpy as np\n",
        "\n",
        "np_array = np.zeros((2,2))\n",
        "np_array_to_tensor = torch.tensor(np_array)\n",
        "np_array_to_tensor"
      ]
    },
    {
      "cell_type": "markdown",
      "metadata": {
        "id": "yHlHd9bz3QRl"
      },
      "source": [
        "Or with build-in torch functionality:"
      ]
    },
    {
      "cell_type": "code",
      "execution_count": null,
      "metadata": {
        "id": "GY-5nmem3NVc"
      },
      "outputs": [],
      "source": [
        "zeros = torch.zeros((2,2))\n",
        "zeros"
      ]
    },
    {
      "cell_type": "code",
      "execution_count": null,
      "metadata": {
        "colab": {
          "base_uri": "https://localhost:8080/"
        },
        "id": "zmWwQLf7_F1Y",
        "outputId": "4c582888-9276-4e21-c729-def35d9458f6"
      },
      "outputs": [
        {
          "data": {
            "text/plain": [
              "tensor([[1., 1., 1.],\n",
              "        [1., 1., 1.]])"
            ]
          },
          "execution_count": 13,
          "metadata": {},
          "output_type": "execute_result"
        }
      ],
      "source": [
        "ones = torch.ones((2,3))\n",
        "ones"
      ]
    },
    {
      "cell_type": "code",
      "execution_count": null,
      "metadata": {
        "colab": {
          "base_uri": "https://localhost:8080/"
        },
        "id": "dReY_EdZ7hRn",
        "outputId": "785cbbc6-423f-4d01-af0b-05eebb01545b"
      },
      "outputs": [
        {
          "data": {
            "text/plain": [
              "tensor([[5, 5, 5],\n",
              "        [5, 5, 5],\n",
              "        [5, 5, 5],\n",
              "        [5, 5, 5]])"
            ]
          },
          "execution_count": 14,
          "metadata": {},
          "output_type": "execute_result"
        }
      ],
      "source": [
        "filled = torch.full((4,3), 5)\n",
        "filled"
      ]
    },
    {
      "cell_type": "markdown",
      "metadata": {
        "id": "9j1Q3XIkjx4D"
      },
      "source": [
        "Tensor-supported data types: \n",
        "- numeric: float, int \n",
        "- boolean\n",
        "- complex numbers\n",
        "\n",
        "All the values in the same tensor are of the same data type.\n"
      ]
    },
    {
      "cell_type": "code",
      "execution_count": null,
      "metadata": {
        "colab": {
          "base_uri": "https://localhost:8080/"
        },
        "id": "3jXElaobpk4z",
        "outputId": "1fad595e-c653-42e2-e7ac-4bce2689bfd4"
      },
      "outputs": [
        {
          "data": {
            "text/plain": [
              "tensor([True, True])"
            ]
          },
          "execution_count": 17,
          "metadata": {},
          "output_type": "execute_result"
        }
      ],
      "source": [
        "true = torch.tensor([True, True])\n",
        "true"
      ]
    },
    {
      "cell_type": "code",
      "execution_count": null,
      "metadata": {
        "id": "fIKePzutprp0"
      },
      "outputs": [],
      "source": [
        "true.dtype"
      ]
    },
    {
      "cell_type": "code",
      "execution_count": null,
      "metadata": {
        "colab": {
          "base_uri": "https://localhost:8080/"
        },
        "id": "BKv2Cv0Vh_jN",
        "outputId": "36cb35d9-a9b3-44f7-8a4a-a4ebf14d39b0"
      },
      "outputs": [
        {
          "data": {
            "text/plain": [
              "tensor([1, 1])"
            ]
          },
          "execution_count": 15,
          "metadata": {},
          "output_type": "execute_result"
        }
      ],
      "source": [
        "true = torch.tensor([True, 1])\n",
        "true"
      ]
    },
    {
      "cell_type": "code",
      "execution_count": null,
      "metadata": {
        "colab": {
          "base_uri": "https://localhost:8080/"
        },
        "id": "eb9gDRC3pdN0",
        "outputId": "d7dd6962-e94c-4e9f-e70b-f3fecb0c0b9f"
      },
      "outputs": [
        {
          "data": {
            "text/plain": [
              "torch.int64"
            ]
          },
          "execution_count": 16,
          "metadata": {},
          "output_type": "execute_result"
        }
      ],
      "source": [
        "true.dtype"
      ]
    },
    {
      "cell_type": "markdown",
      "metadata": {
        "id": "tGZK15JM9jX0"
      },
      "source": [
        "What about strings?\n",
        "PyTorch tensors have no character or string data type support."
      ]
    },
    {
      "cell_type": "code",
      "execution_count": null,
      "metadata": {
        "colab": {
          "base_uri": "https://localhost:8080/"
        },
        "id": "JQVkep_npsCy",
        "outputId": "7d8ff566-8de6-457b-c469-5b6619029f19"
      },
      "outputs": [
        {
          "data": {
            "text/plain": [
              "tensor([ 72, 101, 108, 108, 111,  32,  87, 111, 114, 108, 100,  33])"
            ]
          },
          "execution_count": 33,
          "metadata": {},
          "output_type": "execute_result"
        }
      ],
      "source": [
        "hello = 'Hello World!'\n",
        "hello_tensor = torch.tensor([ord(char) for char in hello])\n",
        "hello_tensor"
      ]
    },
    {
      "cell_type": "markdown",
      "metadata": {
        "id": "VdlQgtdPrdNp"
      },
      "source": [
        "**Attributes of a tensor:**"
      ]
    },
    {
      "cell_type": "code",
      "execution_count": null,
      "metadata": {
        "colab": {
          "base_uri": "https://localhost:8080/"
        },
        "id": "pnp2-IrZyyRZ",
        "outputId": "aceefe39-d6fd-449a-82f5-29496f58b474"
      },
      "outputs": [
        {
          "name": "stdout",
          "output_type": "stream",
          "text": [
            "Shape of tensor: torch.Size([12])\n",
            "Datatype of tensor: torch.int64\n",
            "Device tensor is stored on: cpu\n"
          ]
        }
      ],
      "source": [
        "print(f\"Shape of tensor: {hello_tensor.shape}\")\n",
        "print(f\"Datatype of tensor: {hello_tensor.dtype}\")\n",
        "print(f\"Device tensor is stored on: {hello_tensor.device}\")"
      ]
    },
    {
      "cell_type": "markdown",
      "metadata": {
        "id": "4tSMIxZqdsj3"
      },
      "source": [
        "# Slicing and indexing\n",
        "\n",
        "The same slicing method used on arrays and numpy arrays can be used on tensors as well. The retured result will also be a tensor."
      ]
    },
    {
      "cell_type": "code",
      "execution_count": null,
      "metadata": {
        "colab": {
          "base_uri": "https://localhost:8080/"
        },
        "id": "_Wynz25EzQHR",
        "outputId": "90ed6018-2785-4e6b-9e75-43516e727002"
      },
      "outputs": [
        {
          "data": {
            "text/plain": [
              "tensor([1, 2, 3])"
            ]
          },
          "execution_count": 55,
          "metadata": {},
          "output_type": "execute_result"
        }
      ],
      "source": [
        "bigger_tensor = torch.tensor([[1,2,3],[4,5,6],[7,8,9],[10,11,12]])\n",
        "first_row = bigger_tensor[0]\n",
        "last_row = bigger_tensor[3]\n",
        "first_row"
      ]
    },
    {
      "cell_type": "code",
      "execution_count": null,
      "metadata": {
        "colab": {
          "base_uri": "https://localhost:8080/"
        },
        "id": "L83hW5taz9B4",
        "outputId": "b9573023-c67b-4885-a24c-b3c2b827f518"
      },
      "outputs": [
        {
          "data": {
            "text/plain": [
              "tensor([ 1,  4,  7, 10])"
            ]
          },
          "execution_count": 40,
          "metadata": {},
          "output_type": "execute_result"
        }
      ],
      "source": [
        "first_column = bigger_tensor[:,0]\n",
        "first_column"
      ]
    },
    {
      "cell_type": "markdown",
      "metadata": {
        "id": "ElUyqVNu1QH2"
      },
      "source": [
        "**Joining tensors:**"
      ]
    },
    {
      "cell_type": "code",
      "execution_count": null,
      "metadata": {
        "colab": {
          "base_uri": "https://localhost:8080/"
        },
        "id": "G2VV_0lj1NiO",
        "outputId": "be3f228f-20b8-4fc2-b104-a92e37c8bd1d"
      },
      "outputs": [
        {
          "data": {
            "text/plain": [
              "tensor([ 1,  2,  3, 10, 11, 12])"
            ]
          },
          "execution_count": 60,
          "metadata": {},
          "output_type": "execute_result"
        }
      ],
      "source": [
        "head_and_tail = torch.cat([first_row, last_row])\n",
        "head_and_tail"
      ]
    },
    {
      "cell_type": "markdown",
      "metadata": {
        "id": "YJ93SbYz2j6E"
      },
      "source": [
        "**What if we want to add a dimension?**"
      ]
    },
    {
      "cell_type": "code",
      "execution_count": null,
      "metadata": {
        "colab": {
          "base_uri": "https://localhost:8080/"
        },
        "id": "TCZAvXsr2iuS",
        "outputId": "fec5e85a-e7d0-4b26-9c76-93540572c239"
      },
      "outputs": [
        {
          "data": {
            "text/plain": [
              "tensor([[ 1,  2,  3],\n",
              "        [10, 11, 12]])"
            ]
          },
          "execution_count": 61,
          "metadata": {},
          "output_type": "execute_result"
        }
      ],
      "source": [
        "head_and_tail = torch.stack([first_row, last_row])\n",
        "head_and_tail"
      ]
    },
    {
      "cell_type": "markdown",
      "metadata": {
        "id": "SbTKw-S80TC2"
      },
      "source": [
        "**Accesing a single value output with indices:**"
      ]
    },
    {
      "cell_type": "code",
      "execution_count": null,
      "metadata": {
        "colab": {
          "base_uri": "https://localhost:8080/"
        },
        "id": "X0iZyvFG0Sb5",
        "outputId": "174310d5-04c0-4328-e841-635d225989c1"
      },
      "outputs": [
        {
          "data": {
            "text/plain": [
              "tensor(6)"
            ]
          },
          "execution_count": 48,
          "metadata": {},
          "output_type": "execute_result"
        }
      ],
      "source": [
        "value = bigger_tensor[1][2]\n",
        "value"
      ]
    },
    {
      "cell_type": "markdown",
      "metadata": {
        "id": "6jCnPU8-03um"
      },
      "source": [
        "**tensor.item()** function returns a value of a single-item tensor:"
      ]
    },
    {
      "cell_type": "code",
      "execution_count": null,
      "metadata": {
        "colab": {
          "base_uri": "https://localhost:8080/"
        },
        "id": "uGcxeC8S1CPc",
        "outputId": "c7049657-99eb-4e1d-fbba-3dbbc91b8b48"
      },
      "outputs": [
        {
          "data": {
            "text/plain": [
              "6"
            ]
          },
          "execution_count": 49,
          "metadata": {},
          "output_type": "execute_result"
        }
      ],
      "source": [
        "value.item()"
      ]
    },
    {
      "cell_type": "markdown",
      "metadata": {
        "id": "j-V1Cvofrmwh"
      },
      "source": [
        "# Reshaping\n",
        "\n",
        "**torch.reshape()** is a frequently used way of returning a tensor in the specified shape. "
      ]
    },
    {
      "cell_type": "code",
      "execution_count": null,
      "metadata": {
        "colab": {
          "base_uri": "https://localhost:8080/"
        },
        "id": "8wlY9jhrs5x7",
        "outputId": "fd7d6c15-04c4-4c4f-ea56-693d1f9bf8eb"
      },
      "outputs": [
        {
          "name": "stdout",
          "output_type": "stream",
          "text": [
            "tensor([[1],\n",
            "        [2],\n",
            "        [3],\n",
            "        [4]])\n"
          ]
        }
      ],
      "source": [
        "tensor_1 = torch.tensor([[1, 2], [3, 4]])\n",
        "tensor_2 = tensor_1.reshape(4, 1)\n",
        "\n",
        "print(tensor_2)\n"
      ]
    },
    {
      "cell_type": "code",
      "execution_count": null,
      "metadata": {
        "colab": {
          "base_uri": "https://localhost:8080/"
        },
        "id": "UMAfgARKtPkD",
        "outputId": "fb1bff88-baaf-4117-c6ec-5d05ef7a676f"
      },
      "outputs": [
        {
          "name": "stdout",
          "output_type": "stream",
          "text": [
            "tensor([[0, 1],\n",
            "        [2, 3]])\n"
          ]
        }
      ],
      "source": [
        "a = torch.tensor([[0, 1], [2, 3]])\n",
        "b = torch.reshape(a, (-1,))\n",
        "\n",
        "print(a)"
      ]
    },
    {
      "cell_type": "markdown",
      "metadata": {
        "id": "hPEDSbqXt4pl"
      },
      "source": [
        "# Transposing\n",
        "\n",
        "It is possible to transpose a tensor by specified dimesions using the method:   \n",
        "**torch.transpose(input_tens, dim_0, dim_1).**"
      ]
    },
    {
      "cell_type": "code",
      "execution_count": null,
      "metadata": {
        "colab": {
          "base_uri": "https://localhost:8080/"
        },
        "id": "d1ZcZxB-uTCs",
        "outputId": "0779346b-8764-4c65-a1be-2888ced71bab"
      },
      "outputs": [
        {
          "name": "stdout",
          "output_type": "stream",
          "text": [
            "tensor([[10, 40, 70],\n",
            "        [20, 50, 80],\n",
            "        [30, 60, 90]])\n"
          ]
        }
      ],
      "source": [
        "tensor_1 = torch.tensor([[10, 20, 30],\n",
        "                         [40, 50, 60],\n",
        "                         [70, 80, 90]])\n",
        "\n",
        "tensor_1_transpose = torch.transpose(tensor_1, 0, 1)\n",
        "\n",
        "print(tensor_1_transpose)"
      ]
    },
    {
      "cell_type": "markdown",
      "metadata": {
        "id": "jEWH9TIYru6_"
      },
      "source": [
        "# Matrix Multiplication\n",
        "\n",
        "To perform a matrix multiplications on tensors, we use the method:               **torch.mm(tensor1, tensor2)**\n",
        "\n",
        "If tensor1 is a **(n×m)** tensor, and tensor2 is a **(m×p)** tensor, the output will be a **(n×p)** tensor.\n"
      ]
    },
    {
      "cell_type": "code",
      "execution_count": null,
      "metadata": {
        "colab": {
          "base_uri": "https://localhost:8080/",
          "height": 237
        },
        "id": "54iBmlYkxZY-",
        "outputId": "f9b5714a-924a-43ec-abde-0cf2a0ec44c5"
      },
      "outputs": [
        {
          "ename": "RuntimeError",
          "evalue": "ignored",
          "output_type": "error",
          "traceback": [
            "\u001b[0;31m---------------------------------------------------------------------------\u001b[0m",
            "\u001b[0;31mRuntimeError\u001b[0m                              Traceback (most recent call last)",
            "\u001b[0;32m<ipython-input-9-6c0326fc070e>\u001b[0m in \u001b[0;36m<module>\u001b[0;34m\u001b[0m\n\u001b[1;32m      2\u001b[0m \u001b[0mtensor_2\u001b[0m \u001b[0;34m=\u001b[0m \u001b[0mtorch\u001b[0m\u001b[0;34m.\u001b[0m\u001b[0mtensor\u001b[0m\u001b[0;34m(\u001b[0m\u001b[0;34m[\u001b[0m\u001b[0;34m[\u001b[0m\u001b[0;36m5\u001b[0m\u001b[0;34m,\u001b[0m \u001b[0;36m6\u001b[0m\u001b[0;34m]\u001b[0m\u001b[0;34m,\u001b[0m \u001b[0;34m[\u001b[0m\u001b[0;36m7\u001b[0m\u001b[0;34m,\u001b[0m \u001b[0;36m8\u001b[0m\u001b[0;34m]\u001b[0m\u001b[0;34m,\u001b[0m \u001b[0;34m[\u001b[0m\u001b[0;36m9\u001b[0m\u001b[0;34m,\u001b[0m \u001b[0;36m10\u001b[0m\u001b[0;34m]\u001b[0m\u001b[0;34m]\u001b[0m\u001b[0;34m)\u001b[0m\u001b[0;34m\u001b[0m\u001b[0;34m\u001b[0m\u001b[0m\n\u001b[1;32m      3\u001b[0m \u001b[0;34m\u001b[0m\u001b[0m\n\u001b[0;32m----> 4\u001b[0;31m \u001b[0mproduct\u001b[0m \u001b[0;34m=\u001b[0m \u001b[0mtorch\u001b[0m\u001b[0;34m.\u001b[0m\u001b[0mmm\u001b[0m\u001b[0;34m(\u001b[0m\u001b[0mtensor_1\u001b[0m\u001b[0;34m,\u001b[0m \u001b[0mtensor_2\u001b[0m\u001b[0;34m)\u001b[0m\u001b[0;34m\u001b[0m\u001b[0;34m\u001b[0m\u001b[0m\n\u001b[0m\u001b[1;32m      5\u001b[0m \u001b[0;34m\u001b[0m\u001b[0m\n\u001b[1;32m      6\u001b[0m \u001b[0mprint\u001b[0m\u001b[0;34m(\u001b[0m\u001b[0mproduct\u001b[0m\u001b[0;34m)\u001b[0m\u001b[0;34m\u001b[0m\u001b[0;34m\u001b[0m\u001b[0m\n",
            "\u001b[0;31mRuntimeError\u001b[0m: mat1 and mat2 shapes cannot be multiplied (3x2 and 3x2)"
          ]
        }
      ],
      "source": [
        "tensor_1 = torch.tensor([[1, 2], [3, 4], [3, 4]])\n",
        "tensor_2 = torch.tensor([[5, 6], [7, 8], [9, 10]])\n",
        "\n",
        "product = torch.mm(tensor_1, tensor_2)\n",
        "\n",
        "print(product)\n"
      ]
    },
    {
      "cell_type": "markdown",
      "metadata": {
        "id": "pARlwBJcsyM0"
      },
      "source": [
        "Linear model:\n",
        "\n",
        "x*w + b = y"
      ]
    },
    {
      "cell_type": "markdown",
      "metadata": {
        "id": "JIOM-K8bsIxC"
      },
      "source": [
        "Loss"
      ]
    }
  ],
  "metadata": {
    "accelerator": "GPU",
    "colab": {
      "collapsed_sections": [],
      "provenance": []
    },
    "gpuClass": "standard",
    "kernelspec": {
      "display_name": "Python 3",
      "name": "python3"
    },
    "language_info": {
      "name": "python"
    }
  },
  "nbformat": 4,
  "nbformat_minor": 0
}
