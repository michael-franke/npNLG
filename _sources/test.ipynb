{
  "cells": [
    {
      "cell_type": "markdown",
      "metadata": {
      },
      "source": "Trying out org & Python\n=======================\n\n"
    },
    {
      "cell_type": "markdown",
      "metadata": {
      },
      "source": [
        "This is some text.\n\n"
      ]
    },
    {
      "cell_type": "code",
      "execution_count": 1,
      "metadata": {
      },
      "outputs": [],
      "source": [
        "import numpy as np\nimport sys\nimport os"
      ]
    },
    {
      "cell_type": "markdown",
      "metadata": {
      },
      "source": [
        "So, now I can write a notebook, it seems. It also includes the results. How good is that?\n\n"
      ]
    },
    {
      "cell_type": "code",
      "execution_count": 1,
      "metadata": {
      },
      "outputs": [
        {
          "name": "stdout",
          "output_type": "stream",
          "text": "foo bar"
        }
      ],
      "source": [
        "x = 'foo'\ny = 'bar'\nx + ' ' + y"
      ]
    },
    {
      "cell_type": "code",
      "execution_count": 1,
      "metadata": {
      },
      "outputs": [
        {
          "name": "stdout",
          "output_type": "stream",
          "text": "9"
        }
      ],
      "source": [
        "x = 7\ny = x + 1\nx = y + 1\nprint(x)"
      ]
    },
    {
      "cell_type": "markdown",
      "metadata": {
      },
      "source": [
        "And some more text. And using \\`numpy\\`.\n\n"
      ]
    },
    {
      "cell_type": "code",
      "execution_count": 1,
      "metadata": {
      },
      "outputs": [
        {
          "name": "stdout",
          "output_type": "stream",
          "text": "[1 2 3 4 5 6]\n[1, 2, 3, 4, 5, 6]"
        }
      ],
      "source": [
        "z = [i+1 for i in range(x)]\nprint(np.array(z))\nprint(z)"
      ]
    }
  ],
  "metadata": {
    "org": null,
    "kernelspec": {
      "display_name": "Python 3",
      "language": "python",
      "name": "python3"
    },
    "language_info": {
      "codemirror_mode": {
        "name": "ipython",
        "version": 3
      },
      "file_extension": ".py",
      "mimetype": "text/x-python",
      "name": "python",
      "nbconvert_exporter": "python",
      "pygments_lexer": "ipython3",
      "version": "3.5.2"
    }
  },
  "nbformat": 4,
  "nbformat_minor": 0
}
