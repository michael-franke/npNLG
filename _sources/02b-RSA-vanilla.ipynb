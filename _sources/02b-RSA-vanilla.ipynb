{
  "cells": [
    {
      "cell_type": "markdown",
      "metadata": {
      },
      "source": "Vanilla RSA for reference games\n===============================\n\n"
    },
    {
      "cell_type": "markdown",
      "metadata": {
      },
      "source": [
        "This is a (numpy-based) Python implementation of a vanilla Rational Speech Act model for a reference game.\n\n**NB: preliminary placeholder version; still under construction**\n\n"
      ]
    },
    {
      "cell_type": "code",
      "execution_count": 1,
      "metadata": {
      },
      "outputs": [],
      "source": [
        "import numpy as np\nimport seaborn as sns\nimport pandas as pd\nimport matplotlib.pyplot as plt\n\n##################################################\n## helper functions\n##################################################\n\ndef softmax(x, axis=1):\n    \"\"\"\n    Softmax function in numpy\n    Parameters\n    ----------\n    x: array\n        An array with any dimensionality\n    axis: int\n        The axis along which to apply the softmax\n    Returns\n    -------\n    array\n        Same shape as x\n    \"\"\"\n    e_x = np.exp(x - np.max(x, axis, keepdims=True))\n    return e_x / e_x.sum(axis=axis, keepdims=True)\n\n\ndef normalize(arr, axis=1):\n    \"\"\"\n    Normalize arr along axis\n    \"\"\"\n    return arr / arr.sum(axis, keepdims=True)\n\n##################################################\n## model parameters\n##################################################\n\nalpha              = 1\ncost_adjectives    = 0.1\nsalience_prior_flt = np.array([1,1,1])     # flat\nsalience_prior_emp = np.array([71,139,30]) # empirical\n\n##################################################\n## RSA model predictions\n##################################################\n\nobject_names    = ['blue_circle', 'green_square', 'blue_square']\nutterance_names = ['blue', 'circle', 'green', 'square']\n\nsemantic_meaning = np.array(\n    # blue circle, green square, blue square\n    [[1, 0, 1],  # blue\n     [1, 0, 0],  # circle\n     [0, 1, 0],  # green\n     [0, 1, 1]]  # square,\n    )\n\ndef RSA(alpha, cost_adjectives, salience_prior):\n    \"\"\"\n    predictions of the vanilla RSA model for reference game\n    Parameters\n    ----------\n    alpha: float\n        Optimality parameter\n    cost_adjectives: float\n        Differential cost for production of adjectives\n    salience_prior: array\n        Prior over objects\n    Returns\n    -------\n    dictionary\n        Dictionary with keys 'speaker' and 'listener'\n    \"\"\"\n    costs              = np.array([1.0, 0, 1.0, 0]) * cost_adjectives\n    literal_listener   = normalize(semantic_meaning)\n    util_speaker       = np.log(np.transpose(literal_listener)) - costs\n    pragmatic_speaker  = softmax(alpha * util_speaker)\n    pragmatic_listener = normalize(np.transpose(pragmatic_speaker) * salience_prior)\n    return({'speaker': pragmatic_speaker, 'listener': pragmatic_listener})\n\nRSA_predictions = RSA(alpha, cost_adjectives, salience_prior_flt)\n\n##################################################\n## cast model predictions to DataFrames\n##################################################\n\nspeaker  = pd.DataFrame(data = RSA_predictions['speaker'],\n                        index = object_names,\n                        columns = utterance_names)\nspeaker['object'] = speaker.index\nprint(speaker.round(2))\n\nlistener = pd.DataFrame(data    = RSA_predictions['listener'],\n                        index   = utterance_names,\n                        columns = object_names)\nlistener['utterance'] = listener.index\nprint(listener.round(2))\n\n##################################################\n## plotting the results\n##################################################\n\nspeaker_long = speaker.melt(id_vars = \"object\", var_name = \"utterance\", value_name = \"probability\", ignore_index = False)\nspeaker_plot = sns.FacetGrid(speaker_long, col=\"object\")\nspeaker_plot.map(sns.barplot, \"utterance\", \"probability\")\nplt.show()\n\nlistener_long = listener.melt(id_vars = \"utterance\", var_name = \"object\", value_name = \"probability\", ignore_index = False)\nlistener_plot = sns.FacetGrid(listener_long, col=\"utterance\")\nlistener_plot.map(sns.barplot, \"object\", \"probability\")\nplt.show()"
      ]
    }
  ],
  "metadata": {
    "org": null,
    "kernelspec": {
      "display_name": "Python 3",
      "language": "python",
      "name": "python3"
    },
    "language_info": {
      "codemirror_mode": {
        "name": "ipython",
        "version": 3
      },
      "file_extension": ".py",
      "mimetype": "text/x-python",
      "name": "python",
      "nbconvert_exporter": "python",
      "pygments_lexer": "ipython3",
      "version": "3.5.2"
    }
  },
  "nbformat": 4,
  "nbformat_minor": 0
}
