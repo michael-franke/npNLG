{
  "cells": [
    {
      "cell_type": "markdown",
      "metadata": {
      },
      "source": "Sheet 2.1: PyTorch essentials\n=============================\n\n**Author:** Michael Franke\n\n"
    },
    {
      "cell_type": "markdown",
      "metadata": {
      },
      "source": [
        "This work sheet introduces the very basics of PyTorch.\nIf you want to install PyTorch locally on your machine, follow [these instructions](https://pytorch.org/get-started/locally/).\nIf installed, import the library to make it usable:\n\n"
      ]
    },
    {
      "cell_type": "code",
      "execution_count": 1,
      "metadata": {
      },
      "outputs": [],
      "source": [
        "import torch"
      ]
    },
    {
      "cell_type": "markdown",
      "metadata": {
      },
      "source": [
        "## Tensors\n\n"
      ]
    },
    {
      "cell_type": "markdown",
      "metadata": {
      },
      "source": [
        "Tensors are the default data structure used for the representation of\nnumbers in PyTorch. In mathematics (algebra), a tensor is a\ngeneralization of the concept of a matrix. For our purposes, let&rsquo;s think\nof a tensor as basically an $n$-dimensional array of numbers.\n\nFor example, a single scalar (a single number) is a zero-dimensional\narray. An $n$-dimensional vector is a one-dimensional array of $n$\nnumbers. An $n \\times m$ matrix is a two-dimensional array with $n$\nrows and $m$ columns. All of these -scalars, vectors and matrices- are\ntensors. But *tensors also include even more high-dimensional objects*.\nFor instance, an $k \\times n \\times m$ tensor is a three-dimensional\narray, which includes $k$ matrices, each of which has $n$ rows and\n$m$ columns. And so on.\n\nFull documetation for the \\`torch.Tensor\\` class can be found here:\n[https://pytorch.org/docs/stable/tensors.html](https://pytorch.org/docs/stable/tensors.html)\n\n![img](./pics/03-scalars-vectors-matrices-tensors.png)\n\n> <strong><span style=&ldquo;color:#D83D2B;&rdquo;>Exercise 2.1.1: Dimensions of tensors</span></strong>\n>\n> What are the dimensions of the following tensors?\n>\n> 1. $1$\n> 2. $[1,2,3]$\n> 3. $[[1,2], [3,4]]$\n> 4. $[[1,2], [3,4], [5,6]]$\n> 5. $[[[1,2], [3,4], [5,6]]]$\n\n"
      ]
    },
    {
      "cell_type": "markdown",
      "metadata": {
      },
      "source": [
        "## Creating a tensor\n\n"
      ]
    },
    {
      "cell_type": "markdown",
      "metadata": {
      },
      "source": [
        "There are various ways to create a tensor in PyTorch.\nWe will go through a few examples here.\n\nTensors can be initialised from a list:\n\n"
      ]
    },
    {
      "cell_type": "code",
      "execution_count": 1,
      "metadata": {
      },
      "outputs": [
        {
          "name": "stdout",
          "output_type": "stream",
          "text": "tensor([1, 2, 3, 4])"
        }
      ],
      "source": [
        "a_list = [1, 2, 3, 4]\ntensor_from_list = torch.tensor(a_list)\ntensor_from_list"
      ]
    },
    {
      "cell_type": "markdown",
      "metadata": {
      },
      "source": [
        "Or directly:\n\n"
      ]
    },
    {
      "cell_type": "code",
      "execution_count": 1,
      "metadata": {
      },
      "outputs": [
        {
          "name": "stdout",
          "output_type": "stream",
          "text": "tensor([1, 2, 3, 4])"
        }
      ],
      "source": [
        "new_tensor = torch.tensor([1, 2, 3, 4])\nnew_tensor"
      ]
    },
    {
      "cell_type": "markdown",
      "metadata": {
      },
      "source": [
        "Tensor construction will replicate shape and dimensionality of the data\npassed to it:\n\n"
      ]
    },
    {
      "cell_type": "code",
      "execution_count": 1,
      "metadata": {
      },
      "outputs": [
        {
          "name": "stdout",
          "output_type": "stream",
          "text": "tensor(1)"
        }
      ],
      "source": [
        "tensor_0d = torch.tensor(1)\ntensor_0d"
      ]
    },
    {
      "cell_type": "code",
      "execution_count": 1,
      "metadata": {
      },
      "outputs": [
        {
          "name": "stdout",
          "output_type": "stream",
          "text": "tensor([[1, 2, 3],\n        [4, 5, 6]])"
        }
      ],
      "source": [
        "tensor_2d = torch.tensor([[1,2,3],[4,5,6]])\ntensor_2d"
      ]
    },
    {
      "cell_type": "markdown",
      "metadata": {
      },
      "source": [
        "Tensors can also be constructed from numpy arrays:\n\n"
      ]
    },
    {
      "cell_type": "code",
      "execution_count": 1,
      "metadata": {
      },
      "outputs": [
        {
          "name": "stdout",
          "output_type": "stream",
          "text": "tensor([[0., 0.],\n        [0., 0.]], dtype=torch.float64)"
        }
      ],
      "source": [
        "import numpy as np\n\nnp_array = np.zeros((2,2))\nnp_array_to_tensor = torch.tensor(np_array)\nnp_array_to_tensor"
      ]
    },
    {
      "cell_type": "markdown",
      "metadata": {
      },
      "source": [
        "Or with build-in torch functionality:\n\n"
      ]
    },
    {
      "cell_type": "code",
      "execution_count": 1,
      "metadata": {
      },
      "outputs": [
        {
          "name": "stdout",
          "output_type": "stream",
          "text": "tensor([[0., 0.],\n        [0., 0.]])"
        }
      ],
      "source": [
        "zeros = torch.zeros((2,2))\nzeros"
      ]
    },
    {
      "cell_type": "code",
      "execution_count": 1,
      "metadata": {
      },
      "outputs": [
        {
          "name": "stdout",
          "output_type": "stream",
          "text": "tensor([[1., 1., 1.],\n        [1., 1., 1.]])"
        }
      ],
      "source": [
        "ones = torch.ones((2,3))\nones"
      ]
    },
    {
      "cell_type": "code",
      "execution_count": 1,
      "metadata": {
      },
      "outputs": [
        {
          "name": "stdout",
          "output_type": "stream",
          "text": "tensor([[5, 5, 5],\n        [5, 5, 5],\n        [5, 5, 5],\n        [5, 5, 5]])"
        }
      ],
      "source": [
        "filled = torch.full((4,3), 5)\nfilled"
      ]
    },
    {
      "cell_type": "markdown",
      "metadata": {
      },
      "source": [
        "Often we might also want to fill tensors with random numbers.\nThe function \\`torch.rand()\\` populates a tensor of the given size with random numbers drawn uniformly from the unit interval.\n\n"
      ]
    },
    {
      "cell_type": "code",
      "execution_count": 1,
      "metadata": {
      },
      "outputs": [
        {
          "name": "stdout",
          "output_type": "stream",
          "text": "tensor([[0.1486, 0.3381, 0.1838],\n        [0.0723, 0.4560, 0.2320]])"
        }
      ],
      "source": [
        "torch.rand((2,3))"
      ]
    },
    {
      "cell_type": "markdown",
      "metadata": {
      },
      "source": [
        "> <strong><span style=&ldquo;color:#D83D2B;&rdquo;>Exercise 2.1.2: Creating tensors</span></strong>\n>\n> 1. Create a PyTorch tensor storing the following matrices:\n>\n>   a. $[[1,2], [3,4], [5,6]]$\n>\n>   b. $[[[1,2], [3,4], [5,6]], [[10,20], [30,40], [50,60]]]$\n>\n> 2. Create a PyTorch tensor of size $3 \\times 2 \\times 4$ filled with the number 3.\n>\n>\n>\n> 3. Create a PyTorch vector with 6 random numbers (lying between 0 and 1).\n\n"
      ]
    },
    {
      "cell_type": "markdown",
      "metadata": {
      },
      "source": [
        "## Row & column vectors\n\n"
      ]
    },
    {
      "cell_type": "markdown",
      "metadata": {
      },
      "source": [
        "A one-dimensional tensor is a row-vector:\n\n"
      ]
    },
    {
      "cell_type": "code",
      "execution_count": 1,
      "metadata": {
      },
      "outputs": [
        {
          "name": "stdout",
          "output_type": "stream",
          "text": "tensor([  1,  10, 100])\ntorch.Size([3])"
        }
      ],
      "source": [
        "row_vector = torch.tensor([1,10,100])\nprint(row_vector)\nprint(row_vector.size())"
      ]
    },
    {
      "cell_type": "markdown",
      "metadata": {
      },
      "source": [
        "Strictly speaking, there are no column vectors in PyTorch.\nA column vector would be a matrix with one column:\n\n"
      ]
    },
    {
      "cell_type": "code",
      "execution_count": 1,
      "metadata": {
      },
      "outputs": [
        {
          "name": "stdout",
          "output_type": "stream",
          "text": "tensor([[  1],\n        [ 10],\n        [100]])\ntorch.Size([3, 1])"
        }
      ],
      "source": [
        "col_vector = torch.tensor([[1],[10],[100]])\nprint(col_vector)\nprint(col_vector.size())"
      ]
    },
    {
      "cell_type": "markdown",
      "metadata": {
      },
      "source": [
        "## Tensor data types\n\n"
      ]
    },
    {
      "cell_type": "markdown",
      "metadata": {
      },
      "source": [
        "Tensor-supported data types are:\n\n-   numeric: float, int\n-   boolean\n-   complex numbers\n\nWe can retrieve the type of a tensor with \\`.dtype\\`.\n\n"
      ]
    },
    {
      "cell_type": "code",
      "execution_count": 1,
      "metadata": {
      },
      "outputs": [
        {
          "name": "stdout",
          "output_type": "stream",
          "text": "torch.float32"
        }
      ],
      "source": [
        "torch.tensor([1.5, 2.1]).dtype"
      ]
    },
    {
      "cell_type": "markdown",
      "metadata": {
      },
      "source": [
        "If we construct a tensor with an integer, its type will be integer.\nCompare:\n\n"
      ]
    },
    {
      "cell_type": "code",
      "execution_count": 1,
      "metadata": {
      },
      "outputs": [
        {
          "name": "stdout",
          "output_type": "stream",
          "text": "torch.int64\ntorch.float32"
        }
      ],
      "source": [
        "print(torch.tensor(5).dtype)\nprint(torch.tensor(5.0).dtype)"
      ]
    },
    {
      "cell_type": "markdown",
      "metadata": {
      },
      "source": [
        "It is possible to declare the type explicitly, when constructing a tensor:\n\n"
      ]
    },
    {
      "cell_type": "code",
      "execution_count": 1,
      "metadata": {
      },
      "outputs": [
        {
          "name": "stdout",
          "output_type": "stream",
          "text": "torch.float64\ntorch.bool"
        }
      ],
      "source": [
        "print(torch.tensor(5,   dtype=torch.float64).dtype)\nprint(torch.tensor(1.0, dtype=torch.bool).dtype)"
      ]
    },
    {
      "cell_type": "markdown",
      "metadata": {
      },
      "source": [
        "All the values in the same tensor are of the same data type.\n\n"
      ]
    },
    {
      "cell_type": "code",
      "execution_count": 1,
      "metadata": {
      },
      "outputs": [
        {
          "name": "stdout",
          "output_type": "stream",
          "text": "tensor([True, True])\ntorch.bool"
        }
      ],
      "source": [
        "true = torch.tensor([True, True])\nprint(true)\nprint(true.dtype)"
      ]
    },
    {
      "cell_type": "markdown",
      "metadata": {
      },
      "source": [
        "Careful: PyTorch will implicitly cast data types.\n\n"
      ]
    },
    {
      "cell_type": "code",
      "execution_count": 1,
      "metadata": {
      },
      "outputs": [
        {
          "name": "stdout",
          "output_type": "stream",
          "text": "tensor([1, 1])\ntorch.int64"
        }
      ],
      "source": [
        "mix = torch.tensor([True, 1])\nprint(mix)\nprint(mix.dtype)"
      ]
    },
    {
      "cell_type": "markdown",
      "metadata": {
      },
      "source": [
        "What about strings? PyTorch tensors have no character or string data\ntype support.\n\n"
      ]
    },
    {
      "cell_type": "code",
      "execution_count": 1,
      "metadata": {
      },
      "outputs": [
        {
          "name": "stdout",
          "output_type": "stream",
          "text": "tensor([ 72, 101, 108, 108, 111,  32,  87, 111, 114, 108, 100,  33])"
        }
      ],
      "source": [
        "hello        = 'Hello World!'\nhello_tensor = torch.tensor([ord(char) for char in hello])\nhello_tensor"
      ]
    },
    {
      "cell_type": "markdown",
      "metadata": {
      },
      "source": [
        "## Attributes of a tensor\n\n"
      ]
    },
    {
      "cell_type": "markdown",
      "metadata": {
      },
      "source": [
        "Tensors have attributes, which store information about some of their important properties.\nHere are some important examples:\n\n"
      ]
    },
    {
      "cell_type": "code",
      "execution_count": 1,
      "metadata": {
      },
      "outputs": [
        {
          "name": "stdout",
          "output_type": "stream",
          "text": "Datatype of tensor         : torch.int64\nShape of tensor            : torch.Size([12])\nDevice tensor is stored on : cpu"
        }
      ],
      "source": [
        "print(f\"Datatype of tensor         : {hello_tensor.dtype}\")\nprint(f\"Shape of tensor            : {hello_tensor.shape}\")\nprint(f\"Device tensor is stored on : {hello_tensor.device}\")"
      ]
    },
    {
      "cell_type": "markdown",
      "metadata": {
      },
      "source": [
        "We have seen \\`dtype\\` already.\nThe property \\`shape\\` gives equal output as a call to function \\`.size()\\`.\nThe property assessed with \\`.device\\` tells us where the tensor is stored and manipulated.\nThe default is the CPU.\nIf your machine allows you can also shift all your tensors to a GPU.\nThe syntax for doing this is slightly different on different machines.\n\n> <strong><span style=&ldquo;color:#D83D2B;&rdquo;>Exercise 2.1.3: Tensor attributes & types </span></strong>\n>\n> 1. Inspect the tensor type with \\`.dtype\\` for tensors created from a list containing two different data types supported by PyTorch (int, float, Boolean).\n>\n> 2. Use \\`.shape\\` or \\`.size()\\` to inspect the shape of a (row) vector, a single column matrix, and a $2 \\times 3$ matrix.\n\n"
      ]
    },
    {
      "cell_type": "markdown",
      "metadata": {
      },
      "source": [
        "## Operations on tensors\n\n"
      ]
    },
    {
      "cell_type": "markdown",
      "metadata": {
      },
      "source": [
        "### Indexing and slicing\n\n"
      ]
    },
    {
      "cell_type": "markdown",
      "metadata": {
      },
      "source": [
        "Indexing & slicing works in the way familiar from numpy.\n\n"
      ]
    },
    {
      "cell_type": "code",
      "execution_count": 1,
      "metadata": {
      },
      "outputs": [
        {
          "name": "stdout",
          "output_type": "stream",
          "text": "tensor([[1, 2, 3],\n        [4, 5, 6],\n        [7, 8, 9]])\ntensor(6)\ntensor([7, 8, 9])\ntensor([7, 8, 9])\ntensor([2, 5, 8])"
        }
      ],
      "source": [
        "matrix = torch.tensor([[1,2,3], [4,5,6], [7,8,9]])\nprint(matrix)\nprint(matrix[1,2])   # single element\nprint(matrix[2,:])   # third row\nprint(matrix[2])     # third row (alternative)\nprint(matrix[:,1])   # second column"
      ]
    },
    {
      "cell_type": "markdown",
      "metadata": {
      },
      "source": [
        "### Joining tensors\n\n"
      ]
    },
    {
      "cell_type": "markdown",
      "metadata": {
      },
      "source": [
        "We can concatenate tensor like so:\n\n"
      ]
    },
    {
      "cell_type": "code",
      "execution_count": 1,
      "metadata": {
      },
      "outputs": [
        {
          "name": "stdout",
          "output_type": "stream",
          "text": "tensor([1, 2, 3, 4, 5, 6])"
        }
      ],
      "source": [
        "head          = torch.tensor([1,2,3])\ntail          = torch.tensor([4,5,6])\nhead_and_tail = torch.cat([head, tail])\nprint(head_and_tail)"
      ]
    },
    {
      "cell_type": "markdown",
      "metadata": {
      },
      "source": [
        "What if we want to add a dimension?\n\n"
      ]
    },
    {
      "cell_type": "code",
      "execution_count": 1,
      "metadata": {
      },
      "outputs": [
        {
          "name": "stdout",
          "output_type": "stream",
          "text": "tensor([[1, 2, 3],\n        [4, 5, 6]])"
        }
      ],
      "source": [
        "print(torch.stack([head, tail]))"
      ]
    },
    {
      "cell_type": "markdown",
      "metadata": {
      },
      "source": [
        "### Reshaping\n\n"
      ]
    },
    {
      "cell_type": "markdown",
      "metadata": {
      },
      "source": [
        "The function \\`torch.reshape()\\` is a frequently used way of returning a tensor in the\nspecified shape.\nIts input are the desired output dimensions.\nNB: the reshaping returns a new tensor and does not modify the old tensor.\n\n"
      ]
    },
    {
      "cell_type": "code",
      "execution_count": 1,
      "metadata": {
      },
      "outputs": [
        {
          "name": "stdout",
          "output_type": "stream",
          "text": "tensor([[1, 2],\n        [3, 4]])\ntensor([[1],\n        [2],\n        [3],\n        [4]])"
        }
      ],
      "source": [
        "tensor_1 = torch.tensor([[1, 2], [3, 4]])\ntensor_2 = tensor_1.reshape(4, 1)\nprint(tensor_1)\nprint(tensor_2)"
      ]
    },
    {
      "cell_type": "code",
      "execution_count": 1,
      "metadata": {
      },
      "outputs": [
        {
          "name": "stdout",
          "output_type": "stream",
          "text": "tensor([[0, 1],\n        [2, 3]])\ntensor([0, 1, 2, 3])\ntensor([[0],\n        [1],\n        [2],\n        [3]])\ntensor([[0, 1, 2, 3]])"
        }
      ],
      "source": [
        "a = torch.tensor([[0, 1],\n                  [2, 3]])\nb = torch.reshape(a, (-1,))      # to (row) vector\nc = torch.reshape(a, (-1, 1))    # to one col matrix (~ col vector)\nd = torch.reshape(a, (1, -1))    # to one row matrix\nprint(a)\nprint(b)\nprint(c)\nprint(d)"
      ]
    },
    {
      "cell_type": "markdown",
      "metadata": {
      },
      "source": [
        "### Transposing\n\n"
      ]
    },
    {
      "cell_type": "markdown",
      "metadata": {
      },
      "source": [
        "It is possible to transpose a tensor (with a dimension at least 2) by specified dimesions using the\nfunction: \\`torch.transpose()\\`,\nThis function takes the dimensions which are to be transposed as an argument.\n\n"
      ]
    },
    {
      "cell_type": "code",
      "execution_count": 1,
      "metadata": {
      },
      "outputs": [
        {
          "name": "stdout",
          "output_type": "stream",
          "text": "#+begin_example\ntensor([[[10, 20, 30],\n         [40, 50, 60],\n         [70, 80, 90]],\n\n        [[ 1,  2,  3],\n         [ 4,  5,  6],\n         [ 7,  8,  9]]])\ntensor([[[10, 40, 70],\n         [20, 50, 80],\n         [30, 60, 90]],\n\n        [[ 1,  4,  7],\n         [ 2,  5,  8],\n         [ 3,  6,  9]]])\n#+end_example"
        }
      ],
      "source": [
        "tensor_1 = torch.tensor([[[10, 20, 30], [40, 50, 60], [70, 80, 90]],\n                         [[1,2,3],[4,5,6],[7,8,9]] ])\ntensor_1_transpose = torch.transpose(tensor_1, 1, 2)\nprint(tensor_1)\nprint(tensor_1_transpose)"
      ]
    },
    {
      "cell_type": "markdown",
      "metadata": {
      },
      "source": [
        "### Tensor arithmetic\n\n"
      ]
    },
    {
      "cell_type": "markdown",
      "metadata": {
      },
      "source": [
        "The usual infix notation for arithmetic functions works element-wise on tensors:\n\n"
      ]
    },
    {
      "cell_type": "code",
      "execution_count": 1,
      "metadata": {
      },
      "outputs": [
        {
          "name": "stdout",
          "output_type": "stream",
          "text": "tensor([ 2,  6, 11])\ntensor([ 0, -2, -5])\ntensor([ 1,  8, 24])\ntensor([1.0000, 0.5000, 0.3750])\ntensor([  1,  16, 512])"
        }
      ],
      "source": [
        "x = torch.tensor([1,2,3])\ny = torch.tensor([1,4,8])\nprint(x + y)\nprint(x - y)\nprint(x * y)\nprint(x / y)\nprint(y ** x)"
      ]
    },
    {
      "cell_type": "markdown",
      "metadata": {
      },
      "source": [
        "### Broadcasting\n\n"
      ]
    },
    {
      "cell_type": "markdown",
      "metadata": {
      },
      "source": [
        "When we apply these operations to tensors of different sizes, PyTorch will try to broadcast the input.\n\nFor example, if we multiply a vector with a scalar, the scalar is broadcasted (extended) to a vector of the same length.\nThe result is that each element in the vector is multiplied by that scalar.\n\n"
      ]
    },
    {
      "cell_type": "code",
      "execution_count": 1,
      "metadata": {
      },
      "outputs": [
        {
          "name": "stdout",
          "output_type": "stream",
          "text": "tensor([ 4,  8, 12])"
        }
      ],
      "source": [
        "x = torch.tensor([1,2,3])\nprint(x * 4)"
      ]
    },
    {
      "cell_type": "markdown",
      "metadata": {
      },
      "source": [
        "Similarly, for higher dimensions.\nWith the usual arithmetic operations, a row vector will be recycled in the obvious way.\n\n"
      ]
    },
    {
      "cell_type": "code",
      "execution_count": 1,
      "metadata": {
      },
      "outputs": [
        {
          "name": "stdout",
          "output_type": "stream",
          "text": "multiplication:\n tensor([[ 1, 20],\n        [ 3, 40]])"
        }
      ],
      "source": [
        "row_vector = torch.tensor([1,10])\nmatrix     = torch.tensor([[1,2], [3,4]])\nprint(\"multiplication:\\n\", matrix * row_vector)"
      ]
    },
    {
      "cell_type": "code",
      "execution_count": 1,
      "metadata": {
      },
      "outputs": [
        {
          "name": "stdout",
          "output_type": "stream",
          "text": "division:\n tensor([[1.0000, 0.2000],\n        [3.0000, 0.4000]])"
        }
      ],
      "source": [
        "print(\"division:\\n\" , matrix / row_vector)"
      ]
    },
    {
      "cell_type": "code",
      "execution_count": 1,
      "metadata": {
      },
      "outputs": [
        {
          "name": "stdout",
          "output_type": "stream",
          "text": "addition:\n tensor([[ 2, 12],\n        [ 4, 14]])\nsubtraction:\n tensor([[ 0, -8],\n        [ 2, -6]])"
        }
      ],
      "source": [
        "print(\"addition:\\n\"    , matrix + row_vector)\nprint(\"subtraction:\\n\" , matrix - row_vector)"
      ]
    },
    {
      "cell_type": "markdown",
      "metadata": {
      },
      "source": [
        "The precise documentation of broadcasting is [here](https://pytorch.org/docs/stable/notes/broadcasting.html#broadcasting-semantics).\n\n"
      ]
    },
    {
      "cell_type": "markdown",
      "metadata": {
      },
      "source": [
        "### Matrix Multiplication\n\n"
      ]
    },
    {
      "cell_type": "markdown",
      "metadata": {
      },
      "source": [
        "To perform a matrix multiplications on tensors, we use the function\n\\`torch.matmmul(tensor1, tensor2)\\`, or its short-form notation \\`tensor1 @ tensor2\\`.\nIf \\`tensor1\\` is an $(n×m)$ tensor, and \\`tensor2\\` is an $(m×p)$ tensor, the\noutput will be an $(n×p)$ tensor.\n\n"
      ]
    },
    {
      "cell_type": "code",
      "execution_count": 1,
      "metadata": {
      },
      "outputs": [
        {
          "name": "stdout",
          "output_type": "stream",
          "text": "tensor([[ 12, 200],\n        [ 34, 400],\n        [ 56, 600]])\ntensor([[ 12, 200],\n        [ 34, 400],\n        [ 56, 600]])"
        }
      ],
      "source": [
        "tensor1 = torch.tensor([[1, 2], [3, 4], [5, 6]])\ntensor2 = torch.tensor([[10, 0], [1, 100]])\nprint(torch.matmul(tensor1, tensor2))\nprint(tensor1 @ tensor2)"
      ]
    },
    {
      "cell_type": "markdown",
      "metadata": {
      },
      "source": [
        "Notice that the function \\`torch.matmul()\\` implicitly converts and broadcasts and so also flexibly applies yields a matrix-vector product or a dot products.\n\n"
      ]
    },
    {
      "cell_type": "code",
      "execution_count": 1,
      "metadata": {
      },
      "outputs": [
        {
          "name": "stdout",
          "output_type": "stream",
          "text": "tensor([[1, 2],\n        [3, 4],\n        [5, 6]])\ntensor([ 1, 10])\ntensor([21, 43, 65])\ntensor(101)"
        }
      ],
      "source": [
        "matrix = torch.tensor([[1, 2], [3, 4], [5, 6]])\nvector = torch.tensor([1,10])\nprint(matrix)\nprint(vector)\nprint(matrix @ vector)  # matrix-vector product\nprint(vector @ vector)  # dot prodcut"
      ]
    },
    {
      "cell_type": "markdown",
      "metadata": {
      },
      "source": [
        "Full documentation of \\`torch.matmul()\\` is [here](https://pytorch.org/docs/stable/generated/torch.matmul.html).\n\n"
      ]
    },
    {
      "cell_type": "markdown",
      "metadata": {
      },
      "source": [
        "### Assessing just the values of a tensor\n\n"
      ]
    },
    {
      "cell_type": "markdown",
      "metadata": {
      },
      "source": [
        "The \\`tensor.item()\\` function returns the value of a single-item tensor without any further information, which is often useful for inspection or plotting of results:\n\n"
      ]
    },
    {
      "cell_type": "code",
      "execution_count": 1,
      "metadata": {
      },
      "outputs": [
        {
          "name": "stdout",
          "output_type": "stream",
          "text": "6"
        }
      ],
      "source": [
        "value.item()"
      ]
    },
    {
      "cell_type": "markdown",
      "metadata": {
      },
      "source": [
        "To convert a larger tensor back to numpy (e.g., for plotting) you can do this:\n\n"
      ]
    },
    {
      "cell_type": "code",
      "execution_count": 1,
      "metadata": {
      },
      "outputs": [
        {
          "name": "stdout",
          "output_type": "stream",
          "text": "array([[1, 2, 3],\n       [4, 5, 6]])"
        }
      ],
      "source": [
        "another_tensor = torch.tensor([[1,2,3], [4,5,6]])\nanother_tensor.detach().numpy()"
      ]
    },
    {
      "cell_type": "markdown",
      "metadata": {
      },
      "source": [
        "> <strong><span style=&ldquo;color:#D83D2B;&rdquo;>Exercise 2.1.4: Operations on tensors</span></strong>\n>\n> 1. Define a tensor for matrix $[[[1,2], [3,4], [5,6]]]$. Create new tensors obtained by Reshaping this matrix into a vector (row vector), a one-column matrix. Also, create its transpose.\n>\n> 2. Compute the dot product between $[1,3,5]$ and $[1,10,100]$.\n>\n> 3. Compute the matrix product between PyTorch tensors $[[1], [2], [3]]$ and $[[1,10,100]]$. Convert the result to a numpy array.\n\n"
      ]
    }
  ],
  "metadata": {
    "org": null,
    "kernelspec": {
      "display_name": "Python 3",
      "language": "python",
      "name": "python3"
    },
    "language_info": {
      "codemirror_mode": {
        "name": "ipython",
        "version": 3
      },
      "file_extension": ".py",
      "mimetype": "text/x-python",
      "name": "python",
      "nbconvert_exporter": "python",
      "pygments_lexer": "ipython3",
      "version": "3.5.2"
    }
  },
  "nbformat": 4,
  "nbformat_minor": 0
}
