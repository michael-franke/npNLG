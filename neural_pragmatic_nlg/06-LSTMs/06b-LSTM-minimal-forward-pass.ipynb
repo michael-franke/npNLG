{
  "cells": [
    {
      "cell_type": "markdown",
      "metadata": {
      },
      "source": "Sheet 6.1: Anatomy of a single LSTM forward pass\n================================================\n\n**Author:** Michael Franke\n\n"
    },
    {
      "cell_type": "markdown",
      "metadata": {
      },
      "source": [
        "In this tutorial we will dissect a single forward pass for an LSTM model defined by using PyTorch&rsquo;s built-in LSTM class.\nWe will not define a whole LSTM class or even train a model, but showcase how raw text data needs to be wrangled so that we can feed it into the &rsquo;nn.LSTM&rsquo; functionality supplied by PyTorch.\nWe will also learn about the output of that function.\n\n"
      ]
    },
    {
      "cell_type": "markdown",
      "metadata": {
      },
      "source": [
        "## Packages & global parameters\n\n"
      ]
    },
    {
      "cell_type": "markdown",
      "metadata": {
      },
      "source": [
        "We import torch and the neural network library.\n\n"
      ]
    },
    {
      "cell_type": "code",
      "execution_count": 1,
      "metadata": {
      },
      "outputs": [],
      "source": [
        "import torch\nimport torch.nn as nn\n# import time\n# import math"
      ]
    },
    {
      "cell_type": "markdown",
      "metadata": {
      },
      "source": [
        "## Preparing the input data\n\n"
      ]
    },
    {
      "cell_type": "markdown",
      "metadata": {
      },
      "source": [
        "Our raw input consists of just two sentences.\n\n"
      ]
    },
    {
      "cell_type": "code",
      "execution_count": 1,
      "metadata": {
      },
      "outputs": [],
      "source": [
        "# starting point: raw text input\ninput_raw1 = \"Colin was here.\"\ninput_raw2 = \"Colin went away subito.\""
      ]
    },
    {
      "cell_type": "markdown",
      "metadata": {
      },
      "source": [
        "Our goal is to represent these sentences eventually as a sequence of integers, such that each integer represents the word at that sequence.\nIn order to achieve  this, we need to collect *all* words (that are relevant) and assign them an integer, e.g., by enumerating them in a list.\n\nWe also include some special tokens;\n\n-   [UNK] represents any occurrence of word that the vocabulary does not know (e.g., very rare words, foreign words, unrecognizable stuff, &#x2026;)\n-   [EOS] is the end-of-sequence token\n-   [PAD] is a padding token (to make sequences of equal length, see below)\n\n"
      ]
    },
    {
      "cell_type": "code",
      "execution_count": 1,
      "metadata": {
      },
      "outputs": [],
      "source": [
        "# vocab definition: all units that we want to model\n# include special tokens:\n# like \"[UNK]\" for unknown words (here: \"subito\")\nvocabulary = [\"Colin\", \"was\", \"here\", \"went\", \"away\", \"[UNK]\" \"[EOS]\", \"[PAD]\"]\nn_vocab = len(vocabulary) + 1"
      ]
    },
    {
      "cell_type": "markdown",
      "metadata": {
      },
      "source": [
        "Using the elements of the vocabulary, we can represent the raw input sentences as the following two sequences of tokens, respectively as sequences of integers.\nThese steps are also known as *tokenization* and *indexing*.\nNB: we make sure that all input sequences are of equal length by  adding [PAD] tokens at the end.\n(It is also possible to process various-length sequences, but here we will use padding.)\n\n"
      ]
    },
    {
      "cell_type": "code",
      "execution_count": 1,
      "metadata": {
      },
      "outputs": [],
      "source": [
        "# tokenization: sequence of tokens from the vocabulary\ninput_tok1 = [\"Colin\", \"was\", \"here\", \"[EOS]\", \"[PAD]\"]\ninput_tok2 = [\"Colin\", \"went\", \"away\", \"subito\", \"[EOS]\"]\n\n# indexing: represent input as tensor of indices\ninput_ind1 = torch.tensor([0,1,2,6,7])\ninput_ind2 = torch.tensor([0,3,4,5,6])"
      ]
    },
    {
      "cell_type": "markdown",
      "metadata": {
      },
      "source": [
        "Finally, we create the training batches.\nA batch is, essentially, a list of index-sequences.\n\n"
      ]
    },
    {
      "cell_type": "code",
      "execution_count": 1,
      "metadata": {
      },
      "outputs": [
        {
          "name": "stdout",
          "output_type": "stream",
          "text": "tensor([[0, 1, 2, 6, 7],\n        [0, 3, 4, 5, 6]])"
        }
      ],
      "source": [
        "batch_size = 2\nsequence_length = 5\n\nbatched_input = torch.cat([input_ind1, input_ind2]).reshape(batch_size, sequence_length)\nprint(batched_input)"
      ]
    },
    {
      "cell_type": "markdown",
      "metadata": {
      },
      "source": [
        "## A single forward pass\n\n"
      ]
    },
    {
      "cell_type": "markdown",
      "metadata": {
      },
      "source": [
        "A minimal single forward pass of an LSTM model applied to a *single* input vector (=one sequence of indices) consists of the following steps:\n\n1.  **word embedding**: each index is mapped onto an embedding vector; so the input vector is mapped onto a matrix of word embeddings;\n2.  **LSTM encoding**: the word embeddings are mapped onto a hidden vector representation\n3.  **linear projection**: the hidden vector representation is mapped (linearly) onto a vector of weights (one weight for each word in the vocabulary)\n4.  **softmax**: the next-word probabilities are obtained by taking a softmax on the weights from the previous step\n\n"
      ]
    },
    {
      "cell_type": "markdown",
      "metadata": {
      },
      "source": [
        "### Word embeddings\n\n"
      ]
    },
    {
      "cell_type": "markdown",
      "metadata": {
      },
      "source": [
        "We create embeddings with PyTorch&rsquo;s &rsquo;nn.Embedding&rsquo; class.\nOn instantiation, the embedding is initialized randomly.\n\n"
      ]
    },
    {
      "cell_type": "code",
      "execution_count": 1,
      "metadata": {
      },
      "outputs": [
        {
          "name": "stdout",
          "output_type": "stream",
          "text": "Parameter containing:\ntensor([[-1.1015,  1.6761,  0.3530],\n        [-0.3224, -0.7842, -0.2983],\n        [ 0.0624, -1.5206,  1.5637],\n        [ 1.0833,  0.0371, -0.9189],\n        [ 1.1653, -0.0359,  1.4150],\n        [ 0.6831, -0.8477, -1.2236],\n        [ 1.6085, -0.4324, -0.3602],\n        [ 0.3916,  2.4869,  0.9311]], requires_grad=True)"
        }
      ],
      "source": [
        "# embedding: vector-representation of each word\n# needs parameter for the size of the embedding\nn_embbeding_size = 3\nembedding = nn.Embedding(n_vocab, n_embbeding_size)\n# embedding is a matrix of size (n_vocab, n_embedding_size)\nfor p in embedding.parameters():\n    print(p)"
      ]
    },
    {
      "cell_type": "markdown",
      "metadata": {
      },
      "source": [
        "> <strong><span style=&ldquo;color:#D83D2B;&rdquo;>Exercise 6.1.1: Check parameters of the embedding </span></strong>\n>\n> 0. [Just for yourself] Check the dimension of this output. Where is the embedding for &ldquo;Colin&rdquo;? Where is the embedding for &ldquo;[EOS]&rdquo;?\n\nThe embedding accepts batched input.\nCheck the dimensions of the output:\n\n"
      ]
    },
    {
      "cell_type": "code",
      "execution_count": 1,
      "metadata": {
      },
      "outputs": [
        {
          "name": "stdout",
          "output_type": "stream",
          "text": "#+begin_example\ntensor([[[-1.1015,  1.6761,  0.3530],\n         [-0.3224, -0.7842, -0.2983],\n         [ 0.0624, -1.5206,  1.5637],\n         [ 1.6085, -0.4324, -0.3602],\n         [ 0.3916,  2.4869,  0.9311]],\n\n        [[-1.1015,  1.6761,  0.3530],\n         [ 1.0833,  0.0371, -0.9189],\n         [ 1.1653, -0.0359,  1.4150],\n         [ 0.6831, -0.8477, -1.2236],\n         [ 1.6085, -0.4324, -0.3602]]], grad_fn=<EmbeddingBackward0>)\n#+end_example"
        }
      ],
      "source": [
        "# the 'embedding' takes batched input\ninput_embedding = embedding(batched_input)\nprint(input_embedding)"
      ]
    },
    {
      "cell_type": "markdown",
      "metadata": {
      },
      "source": [
        "> <strong><span style=&ldquo;color:#D83D2B;&rdquo;>Exercise 6.1.2: Check batched embedding </span></strong>\n>\n> 1. What do the dimensions of the output represent here? How would you retrieve the embedding of the word &ldquo;went&rdquo; (give your answer in the form &rsquo;input<sub>embedding</sub>[someIndex, 1:27, SomeOtherIndex, -1]&rsquo;)?\n\n"
      ]
    },
    {
      "cell_type": "markdown",
      "metadata": {
      },
      "source": [
        "### The LSTM encoding\n\n"
      ]
    },
    {
      "cell_type": "markdown",
      "metadata": {
      },
      "source": [
        "We instantiate an LSTM function via &rsquo;nn.LSTM&rsquo;.\nNB: we define a **stacked** LSTM, with two layers; we must declare to use &rsquo;batch first&rsquo; mode, which expects the input batches in the first dimension of the input (which is how we have set up the input).\n\n"
      ]
    },
    {
      "cell_type": "code",
      "execution_count": 1,
      "metadata": {
      },
      "outputs": [],
      "source": [
        "n_hidden_size = 4\n\n# instantiate an LSTM\nlstm = nn.LSTM(input_size  = n_embbeding_size,\n               hidden_size = n_hidden_size,  # size of hidden state\n               num_layers  = 2,              # number of stacked layers\n               batch_first = True            # expect input in format (batch, sequence, token)\n               )"
      ]
    },
    {
      "cell_type": "markdown",
      "metadata": {
      },
      "source": [
        "The LSTM function takes a batch of input vectors and outputs three things:\n\n1.  the sequence of hidden states in the final layer (of stacked LSTMs), one hidden state representation for each word in the input\n2.  the hidden states of the last word in the input sequence for each layer\n3.  the cell states of the last word in the input sequence for each layer\n\n"
      ]
    },
    {
      "cell_type": "code",
      "execution_count": 1,
      "metadata": {
      },
      "outputs": [
        {
          "name": "stdout",
          "output_type": "stream",
          "text": "#+begin_example\n\nLSTM embeddings in last layer for each word:\n tensor([[[ 0.0703,  0.0365, -0.0636,  0.1035],\n         [ 0.1317,  0.0819, -0.0927,  0.1525],\n         [ 0.1824,  0.1313, -0.1097,  0.1831],\n         [ 0.1909,  0.1289, -0.1049,  0.1745],\n         [ 0.1276,  0.0675, -0.0932,  0.1696]],\n\n        [[ 0.0703,  0.0365, -0.0636,  0.1035],\n         [ 0.1072,  0.0490, -0.0881,  0.1399],\n         [ 0.1500,  0.1005, -0.1093,  0.1990],\n         [ 0.1727,  0.1043, -0.1029,  0.1837],\n         [ 0.1789,  0.0985, -0.0977,  0.1789]]], grad_fn=<TransposeBackward0>)\n\nHidden state of last word for each layer:\n tensor([[[-0.3350, -0.2303,  0.1617,  0.1228],\n         [-0.0649, -0.1391,  0.0877,  0.2424]],\n\n        [[ 0.1276,  0.0675, -0.0932,  0.1696],\n         [ 0.1789,  0.0985, -0.0977,  0.1789]]], grad_fn=<StackBackward0>)\n\nCell state of last word for each layer:\n tensor([[[-0.8026, -0.3425,  0.5018,  0.3408],\n         [-0.3806, -0.2594,  0.3732,  0.8697]],\n\n        [[ 0.2594,  0.1044, -0.2128,  0.4967],\n         [ 0.3548,  0.1448, -0.2153,  0.5337]]], grad_fn=<StackBackward0>)\n#+end_example"
        }
      ],
      "source": [
        "# apply LSTM function (initial hidden state and initial cell state default to all 0s)\n# LSTM maps a (batched) sequence of embeddings, onto a triple:\n#   outcome: sequence of hidden states in final layer for each word\n#   hidden:  hidden states of last word for each layer\n#   cell:    cell states of last word for each layer\noutput, (hidden, cell) = lstm(input = input_embedding)\n\nprint(\"\\nLSTM embeddings in last layer for each word:\\n\", output)\nprint(\"\\nHidden state of last word for each layer:\\n\", hidden)\nprint(\"\\nCell state of last word for each layer:\\n\", cell)"
      ]
    },
    {
      "cell_type": "markdown",
      "metadata": {
      },
      "source": [
        "> <strong><span style=&ldquo;color:#D83D2B;&rdquo;>Exercise 6.1.3: Dive into structure of output representations </span></strong>\n>\n> 1. There are two (important) vectors that are represented twice in this print-out. Which vectors are that (i.e., what do they represent)? How would you assess these vectors in Python (give your answer in the for: vector A is in &rsquo;cell[1,2,3]&rsquo; and &rsquo;cell[23,224,-1]&rsquo;)?\n\n"
      ]
    },
    {
      "cell_type": "markdown",
      "metadata": {
      },
      "source": [
        "### Linear mapping onto weights (non-normalized predictions)\n\n"
      ]
    },
    {
      "cell_type": "markdown",
      "metadata": {
      },
      "source": [
        "The output representation for the final word in a sequence (the LSTM embedding associated with that word, after having processed the previous sequence), will be used to make predictions for the next word (in a left-to-right language model).\nWe therefore map the LSTM embeddings of the last word onto a vector of the same length as the vocabulary size.\n\n"
      ]
    },
    {
      "cell_type": "code",
      "execution_count": 1,
      "metadata": {
      },
      "outputs": [],
      "source": [
        "linear_map = nn.Linear(n_hidden_size, n_vocab)\nweights = linear_map(output)"
      ]
    },
    {
      "cell_type": "markdown",
      "metadata": {
      },
      "source": [
        "### Next-word probabilities from softmax-ing weights\n\n"
      ]
    },
    {
      "cell_type": "markdown",
      "metadata": {
      },
      "source": [
        "Finally, we map the non-normalized weights onto next-word probabilities with a softmax transformation:\n\n"
      ]
    },
    {
      "cell_type": "code",
      "execution_count": 1,
      "metadata": {
      },
      "outputs": [
        {
          "name": "stdout",
          "output_type": "stream",
          "text": "#+begin_example\n[[[0.1251 0.187  0.1086 0.1476 0.0802 0.1267 0.1483 0.0766]\n  [0.1219 0.1924 0.1072 0.1498 0.0795 0.1274 0.1491 0.0729]\n  [0.1198 0.1959 0.1058 0.1503 0.0781 0.1291 0.1508 0.0702]\n  [0.1201 0.1961 0.1055 0.1503 0.0776 0.1293 0.1508 0.0702]\n  [0.1209 0.1928 0.1079 0.1512 0.0802 0.1264 0.148  0.0727]]\n\n [[0.1251 0.187  0.1086 0.1476 0.0802 0.1267 0.1483 0.0766]\n  [0.1226 0.1912 0.1078 0.1501 0.0805 0.126  0.1476 0.0741]\n  [0.1193 0.1948 0.1075 0.1516 0.0799 0.1271 0.149  0.0709]\n  [0.1198 0.1956 0.1066 0.1515 0.0787 0.1279 0.1493 0.0707]\n  [0.1199 0.1957 0.1065 0.1518 0.0783 0.128  0.1491 0.0707]]]\n#+end_example"
        }
      ],
      "source": [
        "# get probabilities from output weights\ndef next_word_probabilities(weights):\n    softmax = torch.nn.Softmax(dim=2)\n    return(softmax(weights).detach().numpy().round(4))\n\n# without any training: next word weights have high entropy\nprint(next_word_probabilities(weights))"
      ]
    },
    {
      "cell_type": "markdown",
      "metadata": {
      },
      "source": [
        "> <strong><span style=&ldquo;color:#D83D2B;&rdquo;>Exercise 6.1.4: Check batched embedding </span></strong>\n>\n> 1. Which indices give you the next-word probabilities for the sequence &ldquo;Colin was&rdquo;?\n>\n> 2. What&rsquo;s the most likely word, according to this output, after sequence &ldquo;Colin&rdquo;?\n>\n> 3. What&rsquo;s the most likely word, according to this output, for the first word in a sentence, i.e., after the empty sequence &ldquo;&rdquo;?\n> [Hint: if you think that this is a strange question, or that something stands in the way of answering it directly and smoothly, don&rsquo;t answer it directly and smoothly, but explain why the question is odd or what needs to change in order to be able answer the question.]\n\n"
      ]
    }
  ],
  "metadata": {
    "org": null,
    "kernelspec": {
      "display_name": "Python 3",
      "language": "python",
      "name": "python3"
    },
    "language_info": {
      "codemirror_mode": {
        "name": "ipython",
        "version": 3
      },
      "file_extension": ".py",
      "mimetype": "text/x-python",
      "name": "python",
      "nbconvert_exporter": "python",
      "pygments_lexer": "ipython3",
      "version": "3.5.2"
    }
  },
  "nbformat": 4,
  "nbformat_minor": 0
}
