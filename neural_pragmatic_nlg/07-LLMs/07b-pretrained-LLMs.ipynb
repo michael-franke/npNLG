{
  "cells": [
    {
      "cell_type": "markdown",
      "metadata": {
      },
      "source": "Sheet 7.1: Using pretrained LLMs w/ the 'transformers' package\n==============================================================\n\n**Author:** Michael Franke\n\n"
    },
    {
      "cell_type": "markdown",
      "metadata": {
      },
      "source": [
        "The &rsquo;transformers&rsquo; package by [huggingface](https://huggingface.co/) provides direct access to a multitude of pretrained large language models (LLMs).\nModels and easy-to-use pipelines for many common NLP-tasks exist, ranging from (causal or masked) language modeling over machine translation to sentiment analysis or natural language inference.\nThis brief tutorial showcases how to download a pre-trained causal LLM, a version of OpenAI&rsquo;s GTP-2, how to use it for generation, and how to access its predictions (next-word probabilities, sequence embeddings).\n\nThe &rsquo;transformers&rsquo; package provides models for use with several programming environments, including Tensorflow, Rust or Jax.\nNot all models or tools are available for all programming environments, but PyTorch and Tensorflow are covered best.\n\n"
      ]
    },
    {
      "cell_type": "markdown",
      "metadata": {
      },
      "source": [
        "## Packages\n\n"
      ]
    },
    {
      "cell_type": "markdown",
      "metadata": {
      },
      "source": [
        "We will make heavy use of the &rsquo;transformers&rsquo; package, but also use huggingface&rsquo;s &rsquo;datasets&rsquo; package to access a data set of text from Wikipedia articles.\nIn particular, we import two modules from the &rsquo;transformers&rsquo; package which give us access to instances of OpenAI&rsquo;s GPT-2 model for causal language modeling.\nWe need &rsquo;torch&rsquo; for tensor manipulations and &rsquo;textwrap&rsquo; to prettify output.\n\n"
      ]
    },
    {
      "cell_type": "code",
      "execution_count": 1,
      "metadata": {
      },
      "outputs": [],
      "source": [
        "##################################################\n## import packages\n##################################################\n\nfrom transformers import GPT2TokenizerFast, GPT2LMHeadModel\nfrom datasets import load_dataset\nimport torch\nimport textwrap\nimport warnings\nwarnings.filterwarnings('ignore')"
      ]
    },
    {
      "cell_type": "markdown",
      "metadata": {
      },
      "source": [
        "## Helpers\n\n"
      ]
    },
    {
      "cell_type": "markdown",
      "metadata": {
      },
      "source": [
        "Here is a small helper function for prettier (?) printing of generated output text:\n\n"
      ]
    },
    {
      "cell_type": "code",
      "execution_count": 1,
      "metadata": {
      },
      "outputs": [],
      "source": [
        "##################################################\n## helper function (nicer printing)\n##################################################\n\ndef pretty_print(s):\n    print(\"Output:\\n\" + 80 * '-')\n    print(textwrap.fill(tokenizer.decode(s, skip_special_tokens=True),80))"
      ]
    },
    {
      "cell_type": "markdown",
      "metadata": {
      },
      "source": [
        "## Obtaining a pretrained LLM\n\n"
      ]
    },
    {
      "cell_type": "markdown",
      "metadata": {
      },
      "source": [
        "The &rsquo;transformers&rsquo; package provides access to many different (language) models (see [here](https://huggingface.co/models) for overview).\nOne of them is GPT-2.\nThere are several types of GPT-2 instances we can instantiate through the &rsquo;transformers&rsquo; package, be it for different architectures (PyTorch, Tensorflow etc) or for different purposes (sequence classification, language modeling etc).\nHere is [overview of the GPT-2 model family](https://huggingface.co/docs/transformers/v4.25.1/en/model_doc/gpt2).\n\nIn this tutorial, we are interested in using GPT-2 for (left-to-right) language modeling.\nWe therefore use the module &rsquo;[GPT2LMHeadModel](https://huggingface.co/docs/transformers/v4.25.1/en/model_doc/gpt2#transformers.GPT2LMHeadModel)&rsquo;.\nThis module provides access to different variants of GPT-2 models (larger or smaller, trained on more or less text).\nHere we use the &rsquo;gpt2-large&rsquo; instance, just because.\n\nSince different (language) models also use different tokenization, we also use the corresponding tokenizer from the module &rsquo;GPT2TokenizerFast&rsquo;.\n\n"
      ]
    },
    {
      "cell_type": "code",
      "execution_count": 1,
      "metadata": {
      },
      "outputs": [
        {
          "name": "stdout",
          "output_type": "stream",
          "text": "#+begin_example\nUsing model:  gpt2-large\nGPT2Config {\n  \"_name_or_path\": \"gpt2-large\",\n  \"activation_function\": \"gelu_new\",\n  \"architectures\": [\n    \"GPT2LMHeadModel\"\n  ],\n  \"attn_pdrop\": 0.1,\n  \"bos_token_id\": 50256,\n  \"embd_pdrop\": 0.1,\n  \"eos_token_id\": 50256,\n  \"initializer_range\": 0.02,\n  \"layer_norm_epsilon\": 1e-05,\n  \"model_type\": \"gpt2\",\n  \"n_ctx\": 1024,\n  \"n_embd\": 1280,\n  \"n_head\": 20,\n  \"n_inner\": null,\n  \"n_layer\": 36,\n  \"n_positions\": 1024,\n  \"output_scores\": true,\n  \"pad_token_id\": 50256,\n  \"reorder_and_upcast_attn\": false,\n  \"resid_pdrop\": 0.1,\n  \"scale_attn_by_inverse_layer_idx\": false,\n  \"scale_attn_weights\": true,\n  \"summary_activation\": null,\n  \"summary_first_dropout\": 0.1,\n  \"summary_proj_to_labels\": true,\n  \"summary_type\": \"cls_index\",\n  \"summary_use_proj\": true,\n  \"task_specific_params\": {\n    \"text-generation\": {\n      \"do_sample\": true,\n      \"max_length\": 50\n    }\n  },\n  \"transformers_version\": \"4.25.1\",\n  \"use_cache\": true,\n  \"vocab_size\": 50257\n}\n#+end_example"
        }
      ],
      "source": [
        "##################################################\n## instantiating LLM & its tokenizer\n##################################################\n\n# model_to_use = \"gpt2\"\nmodel_to_use = \"gpt2-large\"\n\nprint(\"Using model: \", model_to_use)\n\n# get the tokenizer for the pre-trained LM you would like to use\ntokenizer = GPT2TokenizerFast.from_pretrained(model_to_use)\n\n# instantiate a model (causal LM)\nmodel = GPT2LMHeadModel.from_pretrained(model_to_use,\n                                        output_scores=True,\n                                        pad_token_id=tokenizer.eos_token_id)\n\n# inspecting the (default) model configuration\n# (it is possible to created models with different configurations)\nprint(model.config)"
      ]
    },
    {
      "cell_type": "markdown",
      "metadata": {
      },
      "source": [
        "## Using the LLM for text generation\n\n"
      ]
    },
    {
      "cell_type": "markdown",
      "metadata": {
      },
      "source": [
        "The instance of the pre-trained LLM, which is now accessible with variable &rsquo;model&rsquo;, comes with several functions for use to use, one of which is &rsquo;generate&rsquo;.\nWe can use it to generate text after an initial prompt.\nFirst, the input prompt must be translated into tokens, then fed into &rsquo;generate&rsquo;, which takes arguments to specify the decoding strategy (here top-k sampling).\nThe output is a tensor of tokens, which must be translated back into human-intelligible words for output.\n\n"
      ]
    },
    {
      "cell_type": "code",
      "execution_count": 1,
      "metadata": {
      },
      "outputs": [
        {
          "name": "stdout",
          "output_type": "stream",
          "text": "#+begin_example\ntensor([[ 7454,   257, 23952,  3214,   287,  1842,   351,   257,   279, 39291,\n           523,   326,   484]])\n\nTop-k sampling:\n\nOutput:\n--------------------------------------------------------------------------------\nOnce a vampire fell in love with a pixie so that they could continue to breed,\ntheir children were affected by the blood.  The blood turned the pixies into\nhuman beings in the process and they became responsible for killing other\nvampires, humans and creatures created by Satan himself.  They were killed in\nthe battle in 1082, as they attempted to feed on a witch named Anna.  Other\nNames  German: Aigars von Fraunhilde (literally, \"Aguaries of Fraunhilde\") — The\nwitch\n#+end_example"
        }
      ],
      "source": [
        "##################################################\n## autoregressive generation\n##################################################\n\n# text to expand\nprompt = \"Once a vampire fell in love with a pixie so that they\"\n\n# translate the prompt into tokens\ninput_tokens = tokenizer(prompt, return_tensors=\"pt\").input_ids\nprint(input_tokens)\n\noutputs = model.generate(input_tokens,\n                         max_new_tokens=100,\n                         do_sample=True,\n                         top_k=50,\n                       )\n\nprint(\"\\nTop-k sampling:\\n\")\npretty_print(outputs[0])"
      ]
    },
    {
      "cell_type": "markdown",
      "metadata": {
      },
      "source": [
        "We can also use beam search through &rsquo;generate&rsquo; by setting the parameter &rsquo;num<sub>beams</sub>&rsquo;.\n\n"
      ]
    },
    {
      "cell_type": "code",
      "execution_count": 1,
      "metadata": {
      },
      "outputs": [
        {
          "name": "stdout",
          "output_type": "stream",
          "text": "#+begin_example\n\nBeam search:\n\nOutput:\n--------------------------------------------------------------------------------\nOnce a vampire fell in love with a pixie so that they could feed on her blood,\nthe pixie would become a vampire herself, and the vampire would become a pixie\nherself, and so on and so forth. The pixie would then become a vampire again,\nand then a pixie again, and so forth and so on, until the pixie became a vampire\nand the vampire became a pixie, and then the pixie was a vampire again and the\nvampire was a pixie and so on.  The pixie would eventually become a\n#+end_example"
        }
      ],
      "source": [
        "outputs = model.generate(input_tokens,\n                         max_new_tokens=100,\n                         num_beams=6,\n                         no_repeat_ngram_size=4,\n                         early_stopping=True\n                         )\n\nprint(\"\\nBeam search:\\n\")\npretty_print(outputs[0])"
      ]
    },
    {
      "cell_type": "markdown",
      "metadata": {
      },
      "source": [
        "## Accessing next-word probabilities\n\n"
      ]
    },
    {
      "cell_type": "markdown",
      "metadata": {
      },
      "source": [
        "To access the model&rsquo;s (raw) predictions, which are (log) next-word probabilities, we can just call the function &rsquo;model&rsquo; itself, which gives us access to the forward-pass of the model.\nWe simply need to feed in a prompt sequence as input.\nWe can additionally feed in a sequence of tokens as &rsquo;labels&rsquo; for which we then obtain the predicted next-word probabilities.\nNB: The $i$-th word in the sequence of labels is assigned the probability obtained after having processed all words up to and including the $i$-th word of the input-token sequence.\n\nThe average negative log-likelihood of the provided labels is accessed through the &rsquo;loss&rsquo; attribute of the returned object from a call to &rsquo;model&rsquo;.\nThe returned object is of type &rsquo;[CausalLMOutputWithCrossAttentions](https://huggingface.co/docs/transformers/main/en/main_classes/output#transformers.modeling_outputs.CausalLMOutputWithCrossAttentions)&rsquo;.\n\n"
      ]
    },
    {
      "cell_type": "code",
      "execution_count": 1,
      "metadata": {
      },
      "outputs": [
        {
          "name": "stdout",
          "output_type": "stream",
          "text": "NLL of second word:  3.040785789489746\nNLL of whole output: 51.008323669433594"
        }
      ],
      "source": [
        "##################################################\n## retrieving next-word surprisals from GPT-2\n##################################################\n\n# NB: we can supply tensors of labels (token ids for next-words, no need to right-shift)\n# using -100 in the labels means: \"don't compute this one\"\nlabels        = torch.clone(input_tokens)\nlabels[0,0]   = -100\noutput_word2  = model(input_tokens[:,0:2], labels= labels[:,0:2])\noutput_prompt = model(input_tokens, labels=input_tokens)\n\n# negative log-likelihood of provided labels\nnll_word2  = output_word2.loss\nnll_output = output_prompt.loss * input_tokens.size(1)\nprint(\"NLL of second word: \", nll_word2.item())\nprint(\"NLL of whole output:\", nll_output.item())"
      ]
    },
    {
      "cell_type": "markdown",
      "metadata": {
      },
      "source": [
        "We can also retrieve the logits (= non-normalized weights prior to the final softmax operation) from the returned object, and so derive the next-word probabilities:\n\n"
      ]
    },
    {
      "cell_type": "code",
      "execution_count": 1,
      "metadata": {
      },
      "outputs": [
        {
          "name": "stdout",
          "output_type": "stream",
          "text": "tensor([[[ 2.3684,  0.9006, -4.1059,  ..., -6.9914, -4.4546,  0.0598],\n         [-0.9339,  0.0542, -3.9052,  ..., -6.6439, -4.8402, -1.2681]]],\n       grad_fn=<UnsafeViewBackward0>)\ntensor([[[-0.0361, -0.3569, -0.7985,  ..., -0.8819, -0.5188, -0.2351],\n         [-3.3384, -1.2034, -0.5978,  ..., -0.5344, -0.9044, -1.5630]]],\n       grad_fn=<LogSoftmaxBackward0>)"
        }
      ],
      "source": [
        "# logits of provided labels\nprint(output_word2.logits)\n# next-word log probabilities:\nprint(torch.nn.functional.log_softmax(output_word2.logits, dim = 1))"
      ]
    },
    {
      "cell_type": "markdown",
      "metadata": {
      },
      "source": [
        "## Accessing the embeddings (hidden states)\n\n"
      ]
    },
    {
      "cell_type": "markdown",
      "metadata": {
      },
      "source": [
        "If we want to repurpose the LLM, we would be interested in the embedding of an input sequence, i.e., the state of the final hidden layer after an input sequence.\nHere is how to access it:\n\n"
      ]
    },
    {
      "cell_type": "code",
      "execution_count": 1,
      "metadata": {
      },
      "outputs": [
        {
          "name": "stdout",
          "output_type": "stream",
          "text": "torch.Size([1, 13, 1280])\nEmbedding of last word in input:\n tensor([ 0.0360,  0.0201, -0.0314,  ...,  0.0598,  0.0014, -0.0129],\n       grad_fn=<SelectBackward0>)"
        }
      ],
      "source": [
        "##################################################\n## retrieving sequence embedding\n##################################################\n\n# set flag 'output_hidden_states' to true\noutput = model(input_tokens, output_hidden_states = True)\n\n# this is a tuple with first element the embeddings of each token in the input\nhidden_states = output.hidden_states\n# so, access the first object from the tuple\nembeddings = hidden_states[0]\n# and print its size and content\nprint(embeddings.size())\nprint(\"Embedding of last word in input:\\n\", embeddings[0,0-1])"
      ]
    },
    {
      "cell_type": "markdown",
      "metadata": {
      },
      "source": [
        "## [Excursion:] Using data from &rsquo;datasets&rsquo;\n\n"
      ]
    },
    {
      "cell_type": "markdown",
      "metadata": {
      },
      "source": [
        "The &rsquo;transformers&rsquo; package is accompanied by the &rsquo;datasets&rsquo; package (also from huggingface), which includes a bunch of interesting data sets for further exploration or fine-tuning.\n\nHere is a brief example of how to load a data set of text from Wikipedia, which we need to pre-process a bit (conjoin lines, tokenize) and then feed into the LLM to access the average negative log-likelihood of the sequence.\n\n"
      ]
    },
    {
      "cell_type": "code",
      "execution_count": 1,
      "metadata": {
      },
      "outputs": [
        {
          "name": "stdout",
          "output_type": "stream",
          "text": "Output:\n--------------------------------------------------------------------------------\n  Robert Boulter is an English film, television and theatre actor. He had a\nguest @-@ starring role on the television series The Bill in 2000. This was\nfollowed by a starring role\nAverage NLL for wikipedia chunk 3.621708393096924"
        }
      ],
      "source": [
        "##################################################\n## working with datasets\n##################################################\n\ntest = load_dataset(\"wikitext\", \"wikitext-2-raw-v1\", split=\"test\")\nencodings = tokenizer(\"\\n\\n\".join(test[\"text\"]), return_tensors=\"pt\")\n\ninput_tokens = encodings.input_ids[:,10:50]\n\npretty_print(input_tokens[0])\n\noutput = model(input_tokens, labels = input_tokens)\nprint(\"Average NLL for wikipedia chunk\", output.loss.item())"
      ]
    }
  ],
  "metadata": {
    "org": null,
    "kernelspec": {
      "display_name": "Python 3",
      "language": "python",
      "name": "python3"
    },
    "language_info": {
      "codemirror_mode": {
        "name": "ipython",
        "version": 3
      },
      "file_extension": ".py",
      "mimetype": "text/x-python",
      "name": "python",
      "nbconvert_exporter": "python",
      "pygments_lexer": "ipython3",
      "version": "3.5.2"
    }
  },
  "nbformat": 4,
  "nbformat_minor": 0
}
